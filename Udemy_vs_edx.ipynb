{
 "cells": [
  {
   "cell_type": "code",
   "execution_count": 2,
   "id": "80526e0c",
   "metadata": {},
   "outputs": [],
   "source": [
    "import pandas as pd\n",
    "import numpy as np\n",
    "import matplotlib.pyplot as plt\n",
    "import seaborn as sns\n",
    "from scipy import stats\n",
    "import pytrends as pt\n",
    "from pytrends.request import TrendReq\n",
    "pytrend = TrendReq()\n",
    "import inspect\n",
    "import sqlite3\n",
    "from pathlib import Path as Path\n",
    "\n"
   ]
  },
  {
   "cell_type": "code",
   "execution_count": 3,
   "id": "02342411",
   "metadata": {},
   "outputs": [],
   "source": [
    "udemy = pd.read_csv(r'C:\\DS project\\udemy_courses.csv')\n",
    "edx = pd.read_csv(r'C:\\DS project\\edx_courses.csv')"
   ]
  },
  {
   "cell_type": "code",
   "execution_count": 4,
   "id": "08c3f865",
   "metadata": {},
   "outputs": [
    {
     "data": {
      "text/html": [
       "<div>\n",
       "<style scoped>\n",
       "    .dataframe tbody tr th:only-of-type {\n",
       "        vertical-align: middle;\n",
       "    }\n",
       "\n",
       "    .dataframe tbody tr th {\n",
       "        vertical-align: top;\n",
       "    }\n",
       "\n",
       "    .dataframe thead th {\n",
       "        text-align: right;\n",
       "    }\n",
       "</style>\n",
       "<table border=\"1\" class=\"dataframe\">\n",
       "  <thead>\n",
       "    <tr style=\"text-align: right;\">\n",
       "      <th></th>\n",
       "      <th>course_id</th>\n",
       "      <th>course_title</th>\n",
       "      <th>url</th>\n",
       "      <th>is_paid</th>\n",
       "      <th>price</th>\n",
       "      <th>num_subscribers</th>\n",
       "      <th>num_reviews</th>\n",
       "      <th>num_lectures</th>\n",
       "      <th>level</th>\n",
       "      <th>content_duration</th>\n",
       "      <th>published_timestamp</th>\n",
       "      <th>subject</th>\n",
       "    </tr>\n",
       "  </thead>\n",
       "  <tbody>\n",
       "    <tr>\n",
       "      <th>0</th>\n",
       "      <td>1070968</td>\n",
       "      <td>Ultimate Investment Banking Course</td>\n",
       "      <td>https://www.udemy.com/ultimate-investment-bank...</td>\n",
       "      <td>True</td>\n",
       "      <td>200</td>\n",
       "      <td>2147</td>\n",
       "      <td>23</td>\n",
       "      <td>51</td>\n",
       "      <td>All Levels</td>\n",
       "      <td>1.5</td>\n",
       "      <td>2017-01-18T20:58:58Z</td>\n",
       "      <td>Business Finance</td>\n",
       "    </tr>\n",
       "    <tr>\n",
       "      <th>1</th>\n",
       "      <td>1113822</td>\n",
       "      <td>Complete GST Course &amp; Certification - Grow You...</td>\n",
       "      <td>https://www.udemy.com/goods-and-services-tax/</td>\n",
       "      <td>True</td>\n",
       "      <td>75</td>\n",
       "      <td>2792</td>\n",
       "      <td>923</td>\n",
       "      <td>274</td>\n",
       "      <td>All Levels</td>\n",
       "      <td>39.0</td>\n",
       "      <td>2017-03-09T16:34:20Z</td>\n",
       "      <td>Business Finance</td>\n",
       "    </tr>\n",
       "    <tr>\n",
       "      <th>2</th>\n",
       "      <td>1006314</td>\n",
       "      <td>Financial Modeling for Business Analysts and C...</td>\n",
       "      <td>https://www.udemy.com/financial-modeling-for-b...</td>\n",
       "      <td>True</td>\n",
       "      <td>45</td>\n",
       "      <td>2174</td>\n",
       "      <td>74</td>\n",
       "      <td>51</td>\n",
       "      <td>Intermediate Level</td>\n",
       "      <td>2.5</td>\n",
       "      <td>2016-12-19T19:26:30Z</td>\n",
       "      <td>Business Finance</td>\n",
       "    </tr>\n",
       "    <tr>\n",
       "      <th>3</th>\n",
       "      <td>1210588</td>\n",
       "      <td>Beginner to Pro - Financial Analysis in Excel ...</td>\n",
       "      <td>https://www.udemy.com/complete-excel-finance-c...</td>\n",
       "      <td>True</td>\n",
       "      <td>95</td>\n",
       "      <td>2451</td>\n",
       "      <td>11</td>\n",
       "      <td>36</td>\n",
       "      <td>All Levels</td>\n",
       "      <td>3.0</td>\n",
       "      <td>2017-05-30T20:07:24Z</td>\n",
       "      <td>Business Finance</td>\n",
       "    </tr>\n",
       "    <tr>\n",
       "      <th>4</th>\n",
       "      <td>1011058</td>\n",
       "      <td>How To Maximize Your Profits Trading Options</td>\n",
       "      <td>https://www.udemy.com/how-to-maximize-your-pro...</td>\n",
       "      <td>True</td>\n",
       "      <td>200</td>\n",
       "      <td>1276</td>\n",
       "      <td>45</td>\n",
       "      <td>26</td>\n",
       "      <td>Intermediate Level</td>\n",
       "      <td>2.0</td>\n",
       "      <td>2016-12-13T14:57:18Z</td>\n",
       "      <td>Business Finance</td>\n",
       "    </tr>\n",
       "    <tr>\n",
       "      <th>...</th>\n",
       "      <td>...</td>\n",
       "      <td>...</td>\n",
       "      <td>...</td>\n",
       "      <td>...</td>\n",
       "      <td>...</td>\n",
       "      <td>...</td>\n",
       "      <td>...</td>\n",
       "      <td>...</td>\n",
       "      <td>...</td>\n",
       "      <td>...</td>\n",
       "      <td>...</td>\n",
       "      <td>...</td>\n",
       "    </tr>\n",
       "    <tr>\n",
       "      <th>3673</th>\n",
       "      <td>775618</td>\n",
       "      <td>Learn jQuery from Scratch - Master of JavaScri...</td>\n",
       "      <td>https://www.udemy.com/easy-jquery-for-beginner...</td>\n",
       "      <td>True</td>\n",
       "      <td>100</td>\n",
       "      <td>1040</td>\n",
       "      <td>14</td>\n",
       "      <td>21</td>\n",
       "      <td>All Levels</td>\n",
       "      <td>2.0</td>\n",
       "      <td>2016-06-14T17:36:46Z</td>\n",
       "      <td>Web Development</td>\n",
       "    </tr>\n",
       "    <tr>\n",
       "      <th>3674</th>\n",
       "      <td>1088178</td>\n",
       "      <td>How To Design A WordPress Website With No Codi...</td>\n",
       "      <td>https://www.udemy.com/how-to-make-a-wordpress-...</td>\n",
       "      <td>True</td>\n",
       "      <td>25</td>\n",
       "      <td>306</td>\n",
       "      <td>3</td>\n",
       "      <td>42</td>\n",
       "      <td>Beginner Level</td>\n",
       "      <td>3.5</td>\n",
       "      <td>2017-03-10T22:24:30Z</td>\n",
       "      <td>Web Development</td>\n",
       "    </tr>\n",
       "    <tr>\n",
       "      <th>3675</th>\n",
       "      <td>635248</td>\n",
       "      <td>Learn and Build using Polymer</td>\n",
       "      <td>https://www.udemy.com/learn-and-build-using-po...</td>\n",
       "      <td>True</td>\n",
       "      <td>40</td>\n",
       "      <td>513</td>\n",
       "      <td>169</td>\n",
       "      <td>48</td>\n",
       "      <td>All Levels</td>\n",
       "      <td>3.5</td>\n",
       "      <td>2015-12-30T16:41:42Z</td>\n",
       "      <td>Web Development</td>\n",
       "    </tr>\n",
       "    <tr>\n",
       "      <th>3676</th>\n",
       "      <td>905096</td>\n",
       "      <td>CSS Animations: Create Amazing Effects on Your...</td>\n",
       "      <td>https://www.udemy.com/css-animations-create-am...</td>\n",
       "      <td>True</td>\n",
       "      <td>50</td>\n",
       "      <td>300</td>\n",
       "      <td>31</td>\n",
       "      <td>38</td>\n",
       "      <td>All Levels</td>\n",
       "      <td>3.0</td>\n",
       "      <td>2016-08-11T19:06:15Z</td>\n",
       "      <td>Web Development</td>\n",
       "    </tr>\n",
       "    <tr>\n",
       "      <th>3677</th>\n",
       "      <td>297602</td>\n",
       "      <td>Using MODX CMS to Build Websites: A Beginner's...</td>\n",
       "      <td>https://www.udemy.com/using-modx-cms-to-build-...</td>\n",
       "      <td>True</td>\n",
       "      <td>45</td>\n",
       "      <td>901</td>\n",
       "      <td>36</td>\n",
       "      <td>20</td>\n",
       "      <td>Beginner Level</td>\n",
       "      <td>2.0</td>\n",
       "      <td>2014-09-28T19:51:11Z</td>\n",
       "      <td>Web Development</td>\n",
       "    </tr>\n",
       "  </tbody>\n",
       "</table>\n",
       "<p>3678 rows × 12 columns</p>\n",
       "</div>"
      ],
      "text/plain": [
       "      course_id                                       course_title  \\\n",
       "0       1070968                 Ultimate Investment Banking Course   \n",
       "1       1113822  Complete GST Course & Certification - Grow You...   \n",
       "2       1006314  Financial Modeling for Business Analysts and C...   \n",
       "3       1210588  Beginner to Pro - Financial Analysis in Excel ...   \n",
       "4       1011058       How To Maximize Your Profits Trading Options   \n",
       "...         ...                                                ...   \n",
       "3673     775618  Learn jQuery from Scratch - Master of JavaScri...   \n",
       "3674    1088178  How To Design A WordPress Website With No Codi...   \n",
       "3675     635248                      Learn and Build using Polymer   \n",
       "3676     905096  CSS Animations: Create Amazing Effects on Your...   \n",
       "3677     297602  Using MODX CMS to Build Websites: A Beginner's...   \n",
       "\n",
       "                                                    url  is_paid  price  \\\n",
       "0     https://www.udemy.com/ultimate-investment-bank...     True    200   \n",
       "1         https://www.udemy.com/goods-and-services-tax/     True     75   \n",
       "2     https://www.udemy.com/financial-modeling-for-b...     True     45   \n",
       "3     https://www.udemy.com/complete-excel-finance-c...     True     95   \n",
       "4     https://www.udemy.com/how-to-maximize-your-pro...     True    200   \n",
       "...                                                 ...      ...    ...   \n",
       "3673  https://www.udemy.com/easy-jquery-for-beginner...     True    100   \n",
       "3674  https://www.udemy.com/how-to-make-a-wordpress-...     True     25   \n",
       "3675  https://www.udemy.com/learn-and-build-using-po...     True     40   \n",
       "3676  https://www.udemy.com/css-animations-create-am...     True     50   \n",
       "3677  https://www.udemy.com/using-modx-cms-to-build-...     True     45   \n",
       "\n",
       "      num_subscribers  num_reviews  num_lectures               level  \\\n",
       "0                2147           23            51          All Levels   \n",
       "1                2792          923           274          All Levels   \n",
       "2                2174           74            51  Intermediate Level   \n",
       "3                2451           11            36          All Levels   \n",
       "4                1276           45            26  Intermediate Level   \n",
       "...               ...          ...           ...                 ...   \n",
       "3673             1040           14            21          All Levels   \n",
       "3674              306            3            42      Beginner Level   \n",
       "3675              513          169            48          All Levels   \n",
       "3676              300           31            38          All Levels   \n",
       "3677              901           36            20      Beginner Level   \n",
       "\n",
       "      content_duration   published_timestamp           subject  \n",
       "0                  1.5  2017-01-18T20:58:58Z  Business Finance  \n",
       "1                 39.0  2017-03-09T16:34:20Z  Business Finance  \n",
       "2                  2.5  2016-12-19T19:26:30Z  Business Finance  \n",
       "3                  3.0  2017-05-30T20:07:24Z  Business Finance  \n",
       "4                  2.0  2016-12-13T14:57:18Z  Business Finance  \n",
       "...                ...                   ...               ...  \n",
       "3673               2.0  2016-06-14T17:36:46Z   Web Development  \n",
       "3674               3.5  2017-03-10T22:24:30Z   Web Development  \n",
       "3675               3.5  2015-12-30T16:41:42Z   Web Development  \n",
       "3676               3.0  2016-08-11T19:06:15Z   Web Development  \n",
       "3677               2.0  2014-09-28T19:51:11Z   Web Development  \n",
       "\n",
       "[3678 rows x 12 columns]"
      ]
     },
     "execution_count": 4,
     "metadata": {},
     "output_type": "execute_result"
    }
   ],
   "source": [
    "udemy"
   ]
  },
  {
   "cell_type": "code",
   "execution_count": 4,
   "id": "da9c73d4",
   "metadata": {},
   "outputs": [
    {
     "data": {
      "text/plain": [
       "course_id                int64\n",
       "course_title            object\n",
       "url                     object\n",
       "is_paid                   bool\n",
       "price                    int64\n",
       "num_subscribers          int64\n",
       "num_reviews              int64\n",
       "num_lectures             int64\n",
       "level                   object\n",
       "content_duration       float64\n",
       "published_timestamp     object\n",
       "subject                 object\n",
       "dtype: object"
      ]
     },
     "execution_count": 4,
     "metadata": {},
     "output_type": "execute_result"
    }
   ],
   "source": [
    "udemy.dtypes"
   ]
  },
  {
   "cell_type": "code",
   "execution_count": 5,
   "id": "2e7b9acc",
   "metadata": {},
   "outputs": [
    {
     "data": {
      "text/plain": [
       "Index(['course_id', 'course_title', 'url', 'is_paid', 'price',\n",
       "       'num_subscribers', 'num_reviews', 'num_lectures', 'level',\n",
       "       'content_duration', 'published_timestamp', 'subject'],\n",
       "      dtype='object')"
      ]
     },
     "execution_count": 5,
     "metadata": {},
     "output_type": "execute_result"
    }
   ],
   "source": [
    "udemy.columns"
   ]
  },
  {
   "cell_type": "code",
   "execution_count": 6,
   "id": "ab1cb0a2",
   "metadata": {},
   "outputs": [],
   "source": [
    "udemy = udemy.drop(columns = ['course_id', 'url', 'course_title'])"
   ]
  },
  {
   "cell_type": "code",
   "execution_count": 7,
   "id": "a747f7f6",
   "metadata": {},
   "outputs": [
    {
     "data": {
      "text/html": [
       "<div>\n",
       "<style scoped>\n",
       "    .dataframe tbody tr th:only-of-type {\n",
       "        vertical-align: middle;\n",
       "    }\n",
       "\n",
       "    .dataframe tbody tr th {\n",
       "        vertical-align: top;\n",
       "    }\n",
       "\n",
       "    .dataframe thead th {\n",
       "        text-align: right;\n",
       "    }\n",
       "</style>\n",
       "<table border=\"1\" class=\"dataframe\">\n",
       "  <thead>\n",
       "    <tr style=\"text-align: right;\">\n",
       "      <th></th>\n",
       "      <th>is_paid</th>\n",
       "      <th>price</th>\n",
       "      <th>num_subscribers</th>\n",
       "      <th>num_reviews</th>\n",
       "      <th>num_lectures</th>\n",
       "      <th>level</th>\n",
       "      <th>content_duration</th>\n",
       "      <th>published_timestamp</th>\n",
       "      <th>subject</th>\n",
       "    </tr>\n",
       "  </thead>\n",
       "  <tbody>\n",
       "    <tr>\n",
       "      <th>0</th>\n",
       "      <td>True</td>\n",
       "      <td>200</td>\n",
       "      <td>2147</td>\n",
       "      <td>23</td>\n",
       "      <td>51</td>\n",
       "      <td>All Levels</td>\n",
       "      <td>1.5</td>\n",
       "      <td>2017-01-18T20:58:58Z</td>\n",
       "      <td>Business Finance</td>\n",
       "    </tr>\n",
       "    <tr>\n",
       "      <th>1</th>\n",
       "      <td>True</td>\n",
       "      <td>75</td>\n",
       "      <td>2792</td>\n",
       "      <td>923</td>\n",
       "      <td>274</td>\n",
       "      <td>All Levels</td>\n",
       "      <td>39.0</td>\n",
       "      <td>2017-03-09T16:34:20Z</td>\n",
       "      <td>Business Finance</td>\n",
       "    </tr>\n",
       "    <tr>\n",
       "      <th>2</th>\n",
       "      <td>True</td>\n",
       "      <td>45</td>\n",
       "      <td>2174</td>\n",
       "      <td>74</td>\n",
       "      <td>51</td>\n",
       "      <td>Intermediate Level</td>\n",
       "      <td>2.5</td>\n",
       "      <td>2016-12-19T19:26:30Z</td>\n",
       "      <td>Business Finance</td>\n",
       "    </tr>\n",
       "    <tr>\n",
       "      <th>3</th>\n",
       "      <td>True</td>\n",
       "      <td>95</td>\n",
       "      <td>2451</td>\n",
       "      <td>11</td>\n",
       "      <td>36</td>\n",
       "      <td>All Levels</td>\n",
       "      <td>3.0</td>\n",
       "      <td>2017-05-30T20:07:24Z</td>\n",
       "      <td>Business Finance</td>\n",
       "    </tr>\n",
       "    <tr>\n",
       "      <th>4</th>\n",
       "      <td>True</td>\n",
       "      <td>200</td>\n",
       "      <td>1276</td>\n",
       "      <td>45</td>\n",
       "      <td>26</td>\n",
       "      <td>Intermediate Level</td>\n",
       "      <td>2.0</td>\n",
       "      <td>2016-12-13T14:57:18Z</td>\n",
       "      <td>Business Finance</td>\n",
       "    </tr>\n",
       "    <tr>\n",
       "      <th>...</th>\n",
       "      <td>...</td>\n",
       "      <td>...</td>\n",
       "      <td>...</td>\n",
       "      <td>...</td>\n",
       "      <td>...</td>\n",
       "      <td>...</td>\n",
       "      <td>...</td>\n",
       "      <td>...</td>\n",
       "      <td>...</td>\n",
       "    </tr>\n",
       "    <tr>\n",
       "      <th>3673</th>\n",
       "      <td>True</td>\n",
       "      <td>100</td>\n",
       "      <td>1040</td>\n",
       "      <td>14</td>\n",
       "      <td>21</td>\n",
       "      <td>All Levels</td>\n",
       "      <td>2.0</td>\n",
       "      <td>2016-06-14T17:36:46Z</td>\n",
       "      <td>Web Development</td>\n",
       "    </tr>\n",
       "    <tr>\n",
       "      <th>3674</th>\n",
       "      <td>True</td>\n",
       "      <td>25</td>\n",
       "      <td>306</td>\n",
       "      <td>3</td>\n",
       "      <td>42</td>\n",
       "      <td>Beginner Level</td>\n",
       "      <td>3.5</td>\n",
       "      <td>2017-03-10T22:24:30Z</td>\n",
       "      <td>Web Development</td>\n",
       "    </tr>\n",
       "    <tr>\n",
       "      <th>3675</th>\n",
       "      <td>True</td>\n",
       "      <td>40</td>\n",
       "      <td>513</td>\n",
       "      <td>169</td>\n",
       "      <td>48</td>\n",
       "      <td>All Levels</td>\n",
       "      <td>3.5</td>\n",
       "      <td>2015-12-30T16:41:42Z</td>\n",
       "      <td>Web Development</td>\n",
       "    </tr>\n",
       "    <tr>\n",
       "      <th>3676</th>\n",
       "      <td>True</td>\n",
       "      <td>50</td>\n",
       "      <td>300</td>\n",
       "      <td>31</td>\n",
       "      <td>38</td>\n",
       "      <td>All Levels</td>\n",
       "      <td>3.0</td>\n",
       "      <td>2016-08-11T19:06:15Z</td>\n",
       "      <td>Web Development</td>\n",
       "    </tr>\n",
       "    <tr>\n",
       "      <th>3677</th>\n",
       "      <td>True</td>\n",
       "      <td>45</td>\n",
       "      <td>901</td>\n",
       "      <td>36</td>\n",
       "      <td>20</td>\n",
       "      <td>Beginner Level</td>\n",
       "      <td>2.0</td>\n",
       "      <td>2014-09-28T19:51:11Z</td>\n",
       "      <td>Web Development</td>\n",
       "    </tr>\n",
       "  </tbody>\n",
       "</table>\n",
       "<p>3678 rows × 9 columns</p>\n",
       "</div>"
      ],
      "text/plain": [
       "      is_paid  price  num_subscribers  num_reviews  num_lectures  \\\n",
       "0        True    200             2147           23            51   \n",
       "1        True     75             2792          923           274   \n",
       "2        True     45             2174           74            51   \n",
       "3        True     95             2451           11            36   \n",
       "4        True    200             1276           45            26   \n",
       "...       ...    ...              ...          ...           ...   \n",
       "3673     True    100             1040           14            21   \n",
       "3674     True     25              306            3            42   \n",
       "3675     True     40              513          169            48   \n",
       "3676     True     50              300           31            38   \n",
       "3677     True     45              901           36            20   \n",
       "\n",
       "                   level  content_duration   published_timestamp  \\\n",
       "0             All Levels               1.5  2017-01-18T20:58:58Z   \n",
       "1             All Levels              39.0  2017-03-09T16:34:20Z   \n",
       "2     Intermediate Level               2.5  2016-12-19T19:26:30Z   \n",
       "3             All Levels               3.0  2017-05-30T20:07:24Z   \n",
       "4     Intermediate Level               2.0  2016-12-13T14:57:18Z   \n",
       "...                  ...               ...                   ...   \n",
       "3673          All Levels               2.0  2016-06-14T17:36:46Z   \n",
       "3674      Beginner Level               3.5  2017-03-10T22:24:30Z   \n",
       "3675          All Levels               3.5  2015-12-30T16:41:42Z   \n",
       "3676          All Levels               3.0  2016-08-11T19:06:15Z   \n",
       "3677      Beginner Level               2.0  2014-09-28T19:51:11Z   \n",
       "\n",
       "               subject  \n",
       "0     Business Finance  \n",
       "1     Business Finance  \n",
       "2     Business Finance  \n",
       "3     Business Finance  \n",
       "4     Business Finance  \n",
       "...                ...  \n",
       "3673   Web Development  \n",
       "3674   Web Development  \n",
       "3675   Web Development  \n",
       "3676   Web Development  \n",
       "3677   Web Development  \n",
       "\n",
       "[3678 rows x 9 columns]"
      ]
     },
     "execution_count": 7,
     "metadata": {},
     "output_type": "execute_result"
    }
   ],
   "source": [
    "udemy"
   ]
  },
  {
   "cell_type": "code",
   "execution_count": 8,
   "id": "6774cb76",
   "metadata": {},
   "outputs": [
    {
     "data": {
      "text/plain": [
       "is_paid                0\n",
       "price                  0\n",
       "num_subscribers        0\n",
       "num_reviews            0\n",
       "num_lectures           0\n",
       "level                  0\n",
       "content_duration       0\n",
       "published_timestamp    0\n",
       "subject                0\n",
       "dtype: int64"
      ]
     },
     "execution_count": 8,
     "metadata": {},
     "output_type": "execute_result"
    }
   ],
   "source": [
    "udemy.isna().sum()"
   ]
  },
  {
   "cell_type": "code",
   "execution_count": 9,
   "id": "23752077",
   "metadata": {},
   "outputs": [
    {
     "data": {
      "text/plain": [
       "array([[<AxesSubplot:title={'center':'price'}>,\n",
       "        <AxesSubplot:title={'center':'num_subscribers'}>],\n",
       "       [<AxesSubplot:title={'center':'num_reviews'}>,\n",
       "        <AxesSubplot:title={'center':'num_lectures'}>],\n",
       "       [<AxesSubplot:title={'center':'content_duration'}>,\n",
       "        <AxesSubplot:>]], dtype=object)"
      ]
     },
     "execution_count": 9,
     "metadata": {},
     "output_type": "execute_result"
    },
    {
     "data": {
      "image/png": "[encoded data removed]",
      "text/plain": [
       "<Figure size 1080x720 with 6 Axes>"
      ]
     },
     "metadata": {
      "needs_background": "light"
     },
     "output_type": "display_data"
    }
   ],
   "source": [
    "udemy.hist(figsize=(15, 10), edgecolor='white', color='grey', grid=True)"
   ]
  },
  {
   "cell_type": "code",
   "execution_count": 10,
   "id": "89bd9d7d",
   "metadata": {
    "scrolled": false
   },
   "outputs": [
    {
     "data": {
      "text/html": [
       "<div>\n",
       "<style scoped>\n",
       "    .dataframe tbody tr th:only-of-type {\n",
       "        vertical-align: middle;\n",
       "    }\n",
       "\n",
       "    .dataframe tbody tr th {\n",
       "        vertical-align: top;\n",
       "    }\n",
       "\n",
       "    .dataframe thead th {\n",
       "        text-align: right;\n",
       "    }\n",
       "</style>\n",
       "<table border=\"1\" class=\"dataframe\">\n",
       "  <thead>\n",
       "    <tr style=\"text-align: right;\">\n",
       "      <th></th>\n",
       "      <th>price</th>\n",
       "      <th>num_subscribers</th>\n",
       "      <th>num_reviews</th>\n",
       "      <th>num_lectures</th>\n",
       "      <th>content_duration</th>\n",
       "    </tr>\n",
       "  </thead>\n",
       "  <tbody>\n",
       "    <tr>\n",
       "      <th>0</th>\n",
       "      <td>200</td>\n",
       "      <td>2147</td>\n",
       "      <td>23</td>\n",
       "      <td>51</td>\n",
       "      <td>1.5</td>\n",
       "    </tr>\n",
       "    <tr>\n",
       "      <th>1</th>\n",
       "      <td>75</td>\n",
       "      <td>2792</td>\n",
       "      <td>923</td>\n",
       "      <td>274</td>\n",
       "      <td>39.0</td>\n",
       "    </tr>\n",
       "    <tr>\n",
       "      <th>2</th>\n",
       "      <td>45</td>\n",
       "      <td>2174</td>\n",
       "      <td>74</td>\n",
       "      <td>51</td>\n",
       "      <td>2.5</td>\n",
       "    </tr>\n",
       "    <tr>\n",
       "      <th>3</th>\n",
       "      <td>95</td>\n",
       "      <td>2451</td>\n",
       "      <td>11</td>\n",
       "      <td>36</td>\n",
       "      <td>3.0</td>\n",
       "    </tr>\n",
       "    <tr>\n",
       "      <th>4</th>\n",
       "      <td>200</td>\n",
       "      <td>1276</td>\n",
       "      <td>45</td>\n",
       "      <td>26</td>\n",
       "      <td>2.0</td>\n",
       "    </tr>\n",
       "    <tr>\n",
       "      <th>...</th>\n",
       "      <td>...</td>\n",
       "      <td>...</td>\n",
       "      <td>...</td>\n",
       "      <td>...</td>\n",
       "      <td>...</td>\n",
       "    </tr>\n",
       "    <tr>\n",
       "      <th>3673</th>\n",
       "      <td>100</td>\n",
       "      <td>1040</td>\n",
       "      <td>14</td>\n",
       "      <td>21</td>\n",
       "      <td>2.0</td>\n",
       "    </tr>\n",
       "    <tr>\n",
       "      <th>3674</th>\n",
       "      <td>25</td>\n",
       "      <td>306</td>\n",
       "      <td>3</td>\n",
       "      <td>42</td>\n",
       "      <td>3.5</td>\n",
       "    </tr>\n",
       "    <tr>\n",
       "      <th>3675</th>\n",
       "      <td>40</td>\n",
       "      <td>513</td>\n",
       "      <td>169</td>\n",
       "      <td>48</td>\n",
       "      <td>3.5</td>\n",
       "    </tr>\n",
       "    <tr>\n",
       "      <th>3676</th>\n",
       "      <td>50</td>\n",
       "      <td>300</td>\n",
       "      <td>31</td>\n",
       "      <td>38</td>\n",
       "      <td>3.0</td>\n",
       "    </tr>\n",
       "    <tr>\n",
       "      <th>3677</th>\n",
       "      <td>45</td>\n",
       "      <td>901</td>\n",
       "      <td>36</td>\n",
       "      <td>20</td>\n",
       "      <td>2.0</td>\n",
       "    </tr>\n",
       "  </tbody>\n",
       "</table>\n",
       "<p>3678 rows × 5 columns</p>\n",
       "</div>"
      ],
      "text/plain": [
       "      price  num_subscribers  num_reviews  num_lectures  content_duration\n",
       "0       200             2147           23            51               1.5\n",
       "1        75             2792          923           274              39.0\n",
       "2        45             2174           74            51               2.5\n",
       "3        95             2451           11            36               3.0\n",
       "4       200             1276           45            26               2.0\n",
       "...     ...              ...          ...           ...               ...\n",
       "3673    100             1040           14            21               2.0\n",
       "3674     25              306            3            42               3.5\n",
       "3675     40              513          169            48               3.5\n",
       "3676     50              300           31            38               3.0\n",
       "3677     45              901           36            20               2.0\n",
       "\n",
       "[3678 rows x 5 columns]"
      ]
     },
     "execution_count": 10,
     "metadata": {},
     "output_type": "execute_result"
    }
   ],
   "source": [
    "udemy_col_num = udemy.loc[:, ~udemy.columns.isin(['is_paid', 'level', 'published_timestamp', 'subject'])]\n",
    "udemy_col_num"
   ]
  },
  {
   "cell_type": "code",
   "execution_count": 11,
   "id": "cddb48c8",
   "metadata": {},
   "outputs": [],
   "source": [
    "udemy_outliers = (np.abs(stats.zscore(udemy_col_num)) < 3).all(axis=1)"
   ]
  },
  {
   "cell_type": "code",
   "execution_count": 12,
   "id": "a8172749",
   "metadata": {
    "scrolled": true
   },
   "outputs": [
    {
     "data": {
      "text/plain": [
       "0        True\n",
       "1       False\n",
       "2        True\n",
       "3        True\n",
       "4        True\n",
       "        ...  \n",
       "3673     True\n",
       "3674     True\n",
       "3675     True\n",
       "3676     True\n",
       "3677     True\n",
       "Length: 3678, dtype: bool"
      ]
     },
     "execution_count": 12,
     "metadata": {},
     "output_type": "execute_result"
    }
   ],
   "source": [
    "udemy_outliers"
   ]
  },
  {
   "cell_type": "code",
   "execution_count": 13,
   "id": "37597ae6",
   "metadata": {},
   "outputs": [],
   "source": [
    "outlier_rows = udemy_col_num[~udemy_outliers]"
   ]
  },
  {
   "cell_type": "code",
   "execution_count": 14,
   "id": "f96353ea",
   "metadata": {},
   "outputs": [],
   "source": [
    "udemy_col_num_filtered = udemy_col_num[udemy_outliers]"
   ]
  },
  {
   "cell_type": "code",
   "execution_count": 15,
   "id": "4369b141",
   "metadata": {},
   "outputs": [
    {
     "data": {
      "text/plain": [
       "Text(0.5, 1.0, 'Numerical columns without outliers')"
      ]
     },
     "execution_count": 15,
     "metadata": {},
     "output_type": "execute_result"
    },
    {
     "data": {
      "image/png": "[encoded data removed]",
      "text/plain": [
       "<Figure size 1080x720 with 6 Axes>"
      ]
     },
     "metadata": {
      "needs_background": "light"
     },
     "output_type": "display_data"
    }
   ],
   "source": [
    "udemy_col_num_filtered.hist(figsize=(15, 10), edgecolor='white', color='gray', grid=True)\n",
    "plt.title(\"Numerical columns without outliers\")"
   ]
  },
  {
   "cell_type": "code",
   "execution_count": 16,
   "id": "759a2ba7",
   "metadata": {},
   "outputs": [
    {
     "data": {
      "text/plain": [
       "Text(0.5, 1.0, 'Numerical columns with outliers')"
      ]
     },
     "execution_count": 16,
     "metadata": {},
     "output_type": "execute_result"
    },
    {
     "data": {
      "image/png": "[encoded data removed]",
      "text/plain": [
       "<Figure size 1080x720 with 6 Axes>"
      ]
     },
     "metadata": {
      "needs_background": "light"
     },
     "output_type": "display_data"
    }
   ],
   "source": [
    "udemy_col_num.hist(figsize=(15, 10), edgecolor='white', color='grey', grid=True)\n",
    "plt.title(\"Numerical columns with outliers\")"
   ]
  },
  {
   "cell_type": "code",
   "execution_count": 17,
   "id": "4f3a98bf",
   "metadata": {},
   "outputs": [
    {
     "data": {
      "image/png": "[encoded data removed]",
      "text/plain": [
       "<Figure size 432x288 with 1 Axes>"
      ]
     },
     "metadata": {
      "needs_background": "light"
     },
     "output_type": "display_data"
    }
   ],
   "source": [
    "plt.scatter(udemy['price'], udemy['num_reviews'], color = 'grey')\n",
    "plt.title('Price vs. Number of Reviews')\n",
    "plt.xlabel('Price')\n",
    "plt.ylabel('Number of Reviews')\n",
    "plt.grid(True)\n",
    "plt.show()"
   ]
  },
  {
   "cell_type": "code",
   "execution_count": 18,
   "id": "52ec023c",
   "metadata": {},
   "outputs": [
    {
     "data": {
      "image/png": "[encoded data removed]",
      "text/plain": [
       "<Figure size 864x432 with 1 Axes>"
      ]
     },
     "metadata": {
      "needs_background": "light"
     },
     "output_type": "display_data"
    }
   ],
   "source": [
    "fig, ax = plt.subplots(figsize=(12, 6))\n",
    "plt.scatter(udemy['price'], udemy['num_reviews'], color=\"grey\")\n",
    "plt.title('Price vs. Number of Reviews')\n",
    "plt.xlabel('Price')\n",
    "plt.ylabel('Number of Reviews')\n",
    "plt.grid(True)\n",
    "plt.show()"
   ]
  },
  {
   "cell_type": "code",
   "execution_count": 19,
   "id": "0ab93277",
   "metadata": {},
   "outputs": [
    {
     "data": {
      "image/png": "[encoded data removed]",
      "text/plain": [
       "<Figure size 864x432 with 1 Axes>"
      ]
     },
     "metadata": {
      "needs_background": "light"
     },
     "output_type": "display_data"
    }
   ],
   "source": [
    "price_reviews = udemy.groupby('price')['num_reviews'].count()\n",
    "\n",
    "fig, ax = plt.subplots(figsize=(12, 6))\n",
    "\n",
    "plt.bar(price_reviews.index, price_reviews.values, width = 10, color = 'grey')\n",
    "\n",
    "plt.xlabel('Price')\n",
    "plt.ylabel('Number of Reviews')\n",
    "plt.title('Number of Reviews by Price Group')\n",
    "plt.grid()\n",
    "plt.show()"
   ]
  },
  {
   "cell_type": "code",
   "execution_count": 20,
   "id": "0b10dbc7",
   "metadata": {},
   "outputs": [
    {
     "data": {
      "image/png": "[encoded data removed]",
      "text/plain": [
       "<Figure size 864x432 with 1 Axes>"
      ]
     },
     "metadata": {
      "needs_background": "light"
     },
     "output_type": "display_data"
    }
   ],
   "source": [
    "price_reviews = udemy.groupby('price')['num_subscribers'].count()\n",
    "\n",
    "fig, ax = plt.subplots(figsize=(12, 6))\n",
    "\n",
    "plt.bar(price_reviews.index, price_reviews.values, width = 10, color = 'grey')\n",
    "\n",
    "plt.xlabel('Price')\n",
    "plt.ylabel('Number of Subscribers')\n",
    "plt.title('Number of Subscribers by Price Group')\n",
    "plt.grid(True)\n",
    "plt.show()"
   ]
  },
  {
   "cell_type": "code",
   "execution_count": 21,
   "id": "77f27a66",
   "metadata": {},
   "outputs": [
    {
     "data": {
      "text/plain": [
       "All Levels            1929\n",
       "Beginner Level        1270\n",
       "Intermediate Level     421\n",
       "Expert Level            58\n",
       "Name: level, dtype: int64"
      ]
     },
     "execution_count": 21,
     "metadata": {},
     "output_type": "execute_result"
    }
   ],
   "source": [
    "level_counts = udemy['level'].value_counts()\n",
    "\n",
    "level_counts"
   ]
  },
  {
   "cell_type": "code",
   "execution_count": 22,
   "id": "3a48d73d",
   "metadata": {},
   "outputs": [
    {
     "data": {
      "text/plain": [
       "<AxesSubplot:>"
      ]
     },
     "execution_count": 22,
     "metadata": {},
     "output_type": "execute_result"
    },
    {
     "data": {
      "image/png": "[encoded data removed]",
      "text/plain": [
       "<Figure size 864x432 with 1 Axes>"
      ]
     },
     "metadata": {
      "needs_background": "light"
     },
     "output_type": "display_data"
    }
   ],
   "source": [
    "level_counts.plot(kind='bar', color = 'grey', figsize = (12, 6))"
   ]
  },
  {
   "cell_type": "code",
   "execution_count": 23,
   "id": "67f276da",
   "metadata": {},
   "outputs": [
    {
     "data": {
      "text/plain": [
       "Text(0.5, 1.0, 'Number of Subscribers vs. Number of Reviews')"
      ]
     },
     "execution_count": 23,
     "metadata": {},
     "output_type": "execute_result"
    },
    {
     "data": {
      "image/png": "[encoded data removed]",
      "text/plain": [
       "<Figure size 864x432 with 1 Axes>"
      ]
     },
     "metadata": {
      "needs_background": "light"
     },
     "output_type": "display_data"
    }
   ],
   "source": [
    "fig, ax = plt.subplots(figsize=(12, 6))\n",
    "sns.scatterplot(data=udemy_col_num_filtered, x='num_subscribers', y='num_reviews', color='grey')\n",
    "plt.title('Number of Subscribers vs. Number of Reviews')"
   ]
  },
  {
   "cell_type": "code",
   "execution_count": 24,
   "id": "e0970be5",
   "metadata": {},
   "outputs": [
    {
     "data": {
      "text/plain": [
       "Text(0.5, 1.0, 'Number of Courses by Subject')"
      ]
     },
     "execution_count": 24,
     "metadata": {},
     "output_type": "execute_result"
    },
    {
     "data": {
      "image/png": "[encoded data removed]",
      "text/plain": [
       "<Figure size 864x432 with 1 Axes>"
      ]
     },
     "metadata": {
      "needs_background": "light"
     },
     "output_type": "display_data"
    }
   ],
   "source": [
    "fig, ax = plt.subplots(figsize=(12, 6))\n",
    "sns.countplot(data=udemy, x='subject', color='grey')\n",
    "plt.title('Number of Courses by Subject')"
   ]
  },
  {
   "cell_type": "code",
   "execution_count": 25,
   "id": "c9008f36",
   "metadata": {},
   "outputs": [],
   "source": [
    "#Porównanie wyszukiwań google Udemy vs Edx w 5-cio letnim horyzoncie"
   ]
  },
  {
   "cell_type": "code",
   "execution_count": 26,
   "id": "f43950cf",
   "metadata": {},
   "outputs": [],
   "source": [
    "kw_list_udemy = ['Udemy']"
   ]
  },
  {
   "cell_type": "code",
   "execution_count": 27,
   "id": "3e6466b2",
   "metadata": {},
   "outputs": [],
   "source": [
    "pytrend.build_payload(kw_list_udemy, timeframe='today 5-y')"
   ]
  },
  {
   "cell_type": "code",
   "execution_count": 28,
   "id": "fb1d6dd8",
   "metadata": {},
   "outputs": [],
   "source": [
    "df_udemy = pytrend.interest_over_time()"
   ]
  },
  {
   "cell_type": "code",
   "execution_count": 29,
   "id": "a250afb6",
   "metadata": {},
   "outputs": [
    {
     "data": {
      "text/plain": [
       "<AxesSubplot:xlabel='date'>"
      ]
     },
     "execution_count": 29,
     "metadata": {},
     "output_type": "execute_result"
    },
    {
     "data": {
      "image/png": "[encoded data removed]",
      "text/plain": [
       "<Figure size 864x432 with 1 Axes>"
      ]
     },
     "metadata": {
      "needs_background": "light"
     },
     "output_type": "display_data"
    }
   ],
   "source": [
    "fig, ax = plt.subplots(figsize=(12, 6))\n",
    "df_udemy.plot(ax=ax, color = 'grey')"
   ]
  },
  {
   "cell_type": "code",
   "execution_count": 30,
   "id": "dd884bb9",
   "metadata": {},
   "outputs": [],
   "source": [
    "kw_list_edx = ['Edx']"
   ]
  },
  {
   "cell_type": "code",
   "execution_count": 31,
   "id": "b6ed12fe",
   "metadata": {},
   "outputs": [],
   "source": [
    "pytrend.build_payload(kw_list_edx, timeframe='today 5-y')"
   ]
  },
  {
   "cell_type": "code",
   "execution_count": 32,
   "id": "ae1c6a31",
   "metadata": {},
   "outputs": [],
   "source": [
    "df_edx = pytrend.interest_over_time()"
   ]
  },
  {
   "cell_type": "code",
   "execution_count": 125,
   "id": "e6e4a2c7",
   "metadata": {},
   "outputs": [
    {
     "data": {
      "image/png": "[encoded data removed]",
      "text/plain": [
       "<Figure size 720x432 with 1 Axes>"
      ]
     },
     "metadata": {},
     "output_type": "display_data"
    }
   ],
   "source": [
    "ax = df_udemy.plot(color = 'grey')\n",
    "df_edx.plot(ax=ax, color = 'gold')\n",
    "\n",
    "plt.rcParams[\"figure.figsize\"] = [8, 6]\n",
    "plt.rcParams[\"figure.autolayout\"] = True\n",
    "\n",
    "\n",
    "plt.show()"
   ]
  },
  {
   "cell_type": "code",
   "execution_count": 34,
   "id": "5bff2b99",
   "metadata": {},
   "outputs": [],
   "source": [
    "Path('udemy_sql.db').touch()\n"
   ]
  },
  {
   "cell_type": "code",
   "execution_count": 35,
   "id": "8be49a8f",
   "metadata": {},
   "outputs": [],
   "source": [
    "udemy_conn = sqlite3.connect(r'C:\\Users\\Draseczka\\Desktop\\SGH stuff\\udemy_courses.db')\n",
    "udemy_cursor = udemy_conn.cursor()"
   ]
  },
  {
   "cell_type": "code",
   "execution_count": 36,
   "id": "12323b7d",
   "metadata": {},
   "outputs": [
    {
     "data": {
      "text/plain": [
       "3678"
      ]
     },
     "execution_count": 36,
     "metadata": {},
     "output_type": "execute_result"
    }
   ],
   "source": [
    "udemy.to_sql('udemy', udemy_conn, if_exists='append', index=False)\n"
   ]
  },
  {
   "cell_type": "code",
   "execution_count": 37,
   "id": "44624532",
   "metadata": {},
   "outputs": [],
   "source": [
    "udemy_query = pd.read_sql(''' SELECT * FROM udemy ''', udemy_conn)\n"
   ]
  },
  {
   "cell_type": "code",
   "execution_count": 38,
   "id": "7af5fa2f",
   "metadata": {
    "scrolled": true
   },
   "outputs": [
    {
     "data": {
      "text/html": [
       "<div>\n",
       "<style scoped>\n",
       "    .dataframe tbody tr th:only-of-type {\n",
       "        vertical-align: middle;\n",
       "    }\n",
       "\n",
       "    .dataframe tbody tr th {\n",
       "        vertical-align: top;\n",
       "    }\n",
       "\n",
       "    .dataframe thead th {\n",
       "        text-align: right;\n",
       "    }\n",
       "</style>\n",
       "<table border=\"1\" class=\"dataframe\">\n",
       "  <thead>\n",
       "    <tr style=\"text-align: right;\">\n",
       "      <th></th>\n",
       "      <th>course_id</th>\n",
       "      <th>course_title</th>\n",
       "      <th>url</th>\n",
       "      <th>is_paid</th>\n",
       "      <th>price</th>\n",
       "      <th>num_subscribers</th>\n",
       "      <th>num_reviews</th>\n",
       "      <th>num_lectures</th>\n",
       "      <th>level</th>\n",
       "      <th>content_duration</th>\n",
       "      <th>published_timestamp</th>\n",
       "      <th>subject</th>\n",
       "    </tr>\n",
       "  </thead>\n",
       "  <tbody>\n",
       "    <tr>\n",
       "      <th>0</th>\n",
       "      <td>1070968.0</td>\n",
       "      <td>Ultimate Investment Banking Course</td>\n",
       "      <td>https://www.udemy.com/ultimate-investment-bank...</td>\n",
       "      <td>1</td>\n",
       "      <td>200</td>\n",
       "      <td>2147</td>\n",
       "      <td>23</td>\n",
       "      <td>51</td>\n",
       "      <td>All Levels</td>\n",
       "      <td>1.5</td>\n",
       "      <td>2017-01-18T20:58:58Z</td>\n",
       "      <td>Business Finance</td>\n",
       "    </tr>\n",
       "    <tr>\n",
       "      <th>1</th>\n",
       "      <td>1113822.0</td>\n",
       "      <td>Complete GST Course &amp; Certification - Grow You...</td>\n",
       "      <td>https://www.udemy.com/goods-and-services-tax/</td>\n",
       "      <td>1</td>\n",
       "      <td>75</td>\n",
       "      <td>2792</td>\n",
       "      <td>923</td>\n",
       "      <td>274</td>\n",
       "      <td>All Levels</td>\n",
       "      <td>39.0</td>\n",
       "      <td>2017-03-09T16:34:20Z</td>\n",
       "      <td>Business Finance</td>\n",
       "    </tr>\n",
       "    <tr>\n",
       "      <th>2</th>\n",
       "      <td>1006314.0</td>\n",
       "      <td>Financial Modeling for Business Analysts and C...</td>\n",
       "      <td>https://www.udemy.com/financial-modeling-for-b...</td>\n",
       "      <td>1</td>\n",
       "      <td>45</td>\n",
       "      <td>2174</td>\n",
       "      <td>74</td>\n",
       "      <td>51</td>\n",
       "      <td>Intermediate Level</td>\n",
       "      <td>2.5</td>\n",
       "      <td>2016-12-19T19:26:30Z</td>\n",
       "      <td>Business Finance</td>\n",
       "    </tr>\n",
       "    <tr>\n",
       "      <th>3</th>\n",
       "      <td>1210588.0</td>\n",
       "      <td>Beginner to Pro - Financial Analysis in Excel ...</td>\n",
       "      <td>https://www.udemy.com/complete-excel-finance-c...</td>\n",
       "      <td>1</td>\n",
       "      <td>95</td>\n",
       "      <td>2451</td>\n",
       "      <td>11</td>\n",
       "      <td>36</td>\n",
       "      <td>All Levels</td>\n",
       "      <td>3.0</td>\n",
       "      <td>2017-05-30T20:07:24Z</td>\n",
       "      <td>Business Finance</td>\n",
       "    </tr>\n",
       "    <tr>\n",
       "      <th>4</th>\n",
       "      <td>1011058.0</td>\n",
       "      <td>How To Maximize Your Profits Trading Options</td>\n",
       "      <td>https://www.udemy.com/how-to-maximize-your-pro...</td>\n",
       "      <td>1</td>\n",
       "      <td>200</td>\n",
       "      <td>1276</td>\n",
       "      <td>45</td>\n",
       "      <td>26</td>\n",
       "      <td>Intermediate Level</td>\n",
       "      <td>2.0</td>\n",
       "      <td>2016-12-13T14:57:18Z</td>\n",
       "      <td>Business Finance</td>\n",
       "    </tr>\n",
       "    <tr>\n",
       "      <th>...</th>\n",
       "      <td>...</td>\n",
       "      <td>...</td>\n",
       "      <td>...</td>\n",
       "      <td>...</td>\n",
       "      <td>...</td>\n",
       "      <td>...</td>\n",
       "      <td>...</td>\n",
       "      <td>...</td>\n",
       "      <td>...</td>\n",
       "      <td>...</td>\n",
       "      <td>...</td>\n",
       "      <td>...</td>\n",
       "    </tr>\n",
       "    <tr>\n",
       "      <th>22063</th>\n",
       "      <td>NaN</td>\n",
       "      <td>None</td>\n",
       "      <td>None</td>\n",
       "      <td>1</td>\n",
       "      <td>100</td>\n",
       "      <td>1040</td>\n",
       "      <td>14</td>\n",
       "      <td>21</td>\n",
       "      <td>All Levels</td>\n",
       "      <td>2.0</td>\n",
       "      <td>2016-06-14T17:36:46Z</td>\n",
       "      <td>Web Development</td>\n",
       "    </tr>\n",
       "    <tr>\n",
       "      <th>22064</th>\n",
       "      <td>NaN</td>\n",
       "      <td>None</td>\n",
       "      <td>None</td>\n",
       "      <td>1</td>\n",
       "      <td>25</td>\n",
       "      <td>306</td>\n",
       "      <td>3</td>\n",
       "      <td>42</td>\n",
       "      <td>Beginner Level</td>\n",
       "      <td>3.5</td>\n",
       "      <td>2017-03-10T22:24:30Z</td>\n",
       "      <td>Web Development</td>\n",
       "    </tr>\n",
       "    <tr>\n",
       "      <th>22065</th>\n",
       "      <td>NaN</td>\n",
       "      <td>None</td>\n",
       "      <td>None</td>\n",
       "      <td>1</td>\n",
       "      <td>40</td>\n",
       "      <td>513</td>\n",
       "      <td>169</td>\n",
       "      <td>48</td>\n",
       "      <td>All Levels</td>\n",
       "      <td>3.5</td>\n",
       "      <td>2015-12-30T16:41:42Z</td>\n",
       "      <td>Web Development</td>\n",
       "    </tr>\n",
       "    <tr>\n",
       "      <th>22066</th>\n",
       "      <td>NaN</td>\n",
       "      <td>None</td>\n",
       "      <td>None</td>\n",
       "      <td>1</td>\n",
       "      <td>50</td>\n",
       "      <td>300</td>\n",
       "      <td>31</td>\n",
       "      <td>38</td>\n",
       "      <td>All Levels</td>\n",
       "      <td>3.0</td>\n",
       "      <td>2016-08-11T19:06:15Z</td>\n",
       "      <td>Web Development</td>\n",
       "    </tr>\n",
       "    <tr>\n",
       "      <th>22067</th>\n",
       "      <td>NaN</td>\n",
       "      <td>None</td>\n",
       "      <td>None</td>\n",
       "      <td>1</td>\n",
       "      <td>45</td>\n",
       "      <td>901</td>\n",
       "      <td>36</td>\n",
       "      <td>20</td>\n",
       "      <td>Beginner Level</td>\n",
       "      <td>2.0</td>\n",
       "      <td>2014-09-28T19:51:11Z</td>\n",
       "      <td>Web Development</td>\n",
       "    </tr>\n",
       "  </tbody>\n",
       "</table>\n",
       "<p>22068 rows × 12 columns</p>\n",
       "</div>"
      ],
      "text/plain": [
       "       course_id                                       course_title  \\\n",
       "0      1070968.0                 Ultimate Investment Banking Course   \n",
       "1      1113822.0  Complete GST Course & Certification - Grow You...   \n",
       "2      1006314.0  Financial Modeling for Business Analysts and C...   \n",
       "3      1210588.0  Beginner to Pro - Financial Analysis in Excel ...   \n",
       "4      1011058.0       How To Maximize Your Profits Trading Options   \n",
       "...          ...                                                ...   \n",
       "22063        NaN                                               None   \n",
       "22064        NaN                                               None   \n",
       "22065        NaN                                               None   \n",
       "22066        NaN                                               None   \n",
       "22067        NaN                                               None   \n",
       "\n",
       "                                                     url  is_paid  price  \\\n",
       "0      https://www.udemy.com/ultimate-investment-bank...        1    200   \n",
       "1          https://www.udemy.com/goods-and-services-tax/        1     75   \n",
       "2      https://www.udemy.com/financial-modeling-for-b...        1     45   \n",
       "3      https://www.udemy.com/complete-excel-finance-c...        1     95   \n",
       "4      https://www.udemy.com/how-to-maximize-your-pro...        1    200   \n",
       "...                                                  ...      ...    ...   \n",
       "22063                                               None        1    100   \n",
       "22064                                               None        1     25   \n",
       "22065                                               None        1     40   \n",
       "22066                                               None        1     50   \n",
       "22067                                               None        1     45   \n",
       "\n",
       "       num_subscribers  num_reviews  num_lectures               level  \\\n",
       "0                 2147           23            51          All Levels   \n",
       "1                 2792          923           274          All Levels   \n",
       "2                 2174           74            51  Intermediate Level   \n",
       "3                 2451           11            36          All Levels   \n",
       "4                 1276           45            26  Intermediate Level   \n",
       "...                ...          ...           ...                 ...   \n",
       "22063             1040           14            21          All Levels   \n",
       "22064              306            3            42      Beginner Level   \n",
       "22065              513          169            48          All Levels   \n",
       "22066              300           31            38          All Levels   \n",
       "22067              901           36            20      Beginner Level   \n",
       "\n",
       "       content_duration   published_timestamp           subject  \n",
       "0                   1.5  2017-01-18T20:58:58Z  Business Finance  \n",
       "1                  39.0  2017-03-09T16:34:20Z  Business Finance  \n",
       "2                   2.5  2016-12-19T19:26:30Z  Business Finance  \n",
       "3                   3.0  2017-05-30T20:07:24Z  Business Finance  \n",
       "4                   2.0  2016-12-13T14:57:18Z  Business Finance  \n",
       "...                 ...                   ...               ...  \n",
       "22063               2.0  2016-06-14T17:36:46Z   Web Development  \n",
       "22064               3.5  2017-03-10T22:24:30Z   Web Development  \n",
       "22065               3.5  2015-12-30T16:41:42Z   Web Development  \n",
       "22066               3.0  2016-08-11T19:06:15Z   Web Development  \n",
       "22067               2.0  2014-09-28T19:51:11Z   Web Development  \n",
       "\n",
       "[22068 rows x 12 columns]"
      ]
     },
     "execution_count": 38,
     "metadata": {},
     "output_type": "execute_result"
    }
   ],
   "source": [
    "udemy_query"
   ]
  },
  {
   "cell_type": "code",
   "execution_count": 122,
   "id": "9488a888",
   "metadata": {},
   "outputs": [
    {
     "data": {
      "text/html": [
       "<div>\n",
       "<style scoped>\n",
       "    .dataframe tbody tr th:only-of-type {\n",
       "        vertical-align: middle;\n",
       "    }\n",
       "\n",
       "    .dataframe tbody tr th {\n",
       "        vertical-align: top;\n",
       "    }\n",
       "\n",
       "    .dataframe thead th {\n",
       "        text-align: right;\n",
       "    }\n",
       "</style>\n",
       "<table border=\"1\" class=\"dataframe\">\n",
       "  <thead>\n",
       "    <tr style=\"text-align: right;\">\n",
       "      <th></th>\n",
       "      <th>subscribers</th>\n",
       "      <th>subject</th>\n",
       "    </tr>\n",
       "  </thead>\n",
       "  <tbody>\n",
       "    <tr>\n",
       "      <th>0</th>\n",
       "      <td>47</td>\n",
       "      <td>Web Development</td>\n",
       "    </tr>\n",
       "    <tr>\n",
       "      <th>1</th>\n",
       "      <td>11</td>\n",
       "      <td>Business Finance</td>\n",
       "    </tr>\n",
       "    <tr>\n",
       "      <th>2</th>\n",
       "      <td>6</td>\n",
       "      <td>Graphic Design</td>\n",
       "    </tr>\n",
       "    <tr>\n",
       "      <th>3</th>\n",
       "      <td>5</td>\n",
       "      <td>Musical Instruments</td>\n",
       "    </tr>\n",
       "  </tbody>\n",
       "</table>\n",
       "</div>"
      ],
      "text/plain": [
       "   subscribers              subject\n",
       "0           47      Web Development\n",
       "1           11     Business Finance\n",
       "2            6       Graphic Design\n",
       "3            5  Musical Instruments"
      ]
     },
     "execution_count": 122,
     "metadata": {},
     "output_type": "execute_result"
    }
   ],
   "source": [
    "udemy_subjects_by_subs = pd.read_sql(''' SELECT SUM(num_subscribers)/1000000 AS subscribers, subject\n",
    "                             FROM udemy\n",
    "                             GROUP BY subject\n",
    "                             ORDER BY subscribers DESC\n",
    "                             ''', udemy_conn)\n",
    "udemy_subjects_by_subs"
   ]
  },
  {
   "cell_type": "code",
   "execution_count": 123,
   "id": "116f4281",
   "metadata": {},
   "outputs": [],
   "source": [
    "udemy_subjects_by_subs_csv = udemy_subjects_by_subs.to_csv('udemy_subjects_by_subs.csv')"
   ]
  },
  {
   "cell_type": "code",
   "execution_count": 94,
   "id": "1395b31b",
   "metadata": {},
   "outputs": [
    {
     "data": {
      "text/html": [
       "<div>\n",
       "<style scoped>\n",
       "    .dataframe tbody tr th:only-of-type {\n",
       "        vertical-align: middle;\n",
       "    }\n",
       "\n",
       "    .dataframe tbody tr th {\n",
       "        vertical-align: top;\n",
       "    }\n",
       "\n",
       "    .dataframe thead th {\n",
       "        text-align: right;\n",
       "    }\n",
       "</style>\n",
       "<table border=\"1\" class=\"dataframe\">\n",
       "  <thead>\n",
       "    <tr style=\"text-align: right;\">\n",
       "      <th></th>\n",
       "      <th>subject</th>\n",
       "      <th>avg_price</th>\n",
       "    </tr>\n",
       "  </thead>\n",
       "  <tbody>\n",
       "    <tr>\n",
       "      <th>0</th>\n",
       "      <td>Web Development</td>\n",
       "      <td>77.033333</td>\n",
       "    </tr>\n",
       "    <tr>\n",
       "      <th>1</th>\n",
       "      <td>Business Finance</td>\n",
       "      <td>68.552301</td>\n",
       "    </tr>\n",
       "    <tr>\n",
       "      <th>2</th>\n",
       "      <td>Graphic Design</td>\n",
       "      <td>57.827529</td>\n",
       "    </tr>\n",
       "    <tr>\n",
       "      <th>3</th>\n",
       "      <td>Musical Instruments</td>\n",
       "      <td>49.558824</td>\n",
       "    </tr>\n",
       "  </tbody>\n",
       "</table>\n",
       "</div>"
      ],
      "text/plain": [
       "               subject  avg_price\n",
       "0      Web Development  77.033333\n",
       "1     Business Finance  68.552301\n",
       "2       Graphic Design  57.827529\n",
       "3  Musical Instruments  49.558824"
      ]
     },
     "execution_count": 94,
     "metadata": {},
     "output_type": "execute_result"
    }
   ],
   "source": [
    "udemy_avg_price_by_subject = pd.read_sql('''SELECT subject, AVG(price) AS avg_price\n",
    "                                        FROM udemy\n",
    "                                        GROUP BY subject\n",
    "                                        ORDER BY avg_price DESC\n",
    "                                        LIMIT 8''', udemy_conn)\n",
    "\n",
    "udemy_avg_price_by_subject"
   ]
  },
  {
   "cell_type": "code",
   "execution_count": 95,
   "id": "99d29529",
   "metadata": {},
   "outputs": [],
   "source": [
    "udemy_avg_price_by_subject_csv = udemy_avg_price_by_subject.to_csv('udemy_avg_price_by_subject.csv')"
   ]
  },
  {
   "cell_type": "code",
   "execution_count": 39,
   "id": "9d2bb7bb",
   "metadata": {
    "scrolled": true
   },
   "outputs": [
    {
     "data": {
      "text/html": [
       "<div>\n",
       "<style scoped>\n",
       "    .dataframe tbody tr th:only-of-type {\n",
       "        vertical-align: middle;\n",
       "    }\n",
       "\n",
       "    .dataframe tbody tr th {\n",
       "        vertical-align: top;\n",
       "    }\n",
       "\n",
       "    .dataframe thead th {\n",
       "        text-align: right;\n",
       "    }\n",
       "</style>\n",
       "<table border=\"1\" class=\"dataframe\">\n",
       "  <thead>\n",
       "    <tr style=\"text-align: right;\">\n",
       "      <th></th>\n",
       "      <th>level</th>\n",
       "      <th>level_count</th>\n",
       "      <th>num_subscribers</th>\n",
       "    </tr>\n",
       "  </thead>\n",
       "  <tbody>\n",
       "    <tr>\n",
       "      <th>0</th>\n",
       "      <td>Expert Level</td>\n",
       "      <td>348</td>\n",
       "      <td>5172</td>\n",
       "    </tr>\n",
       "    <tr>\n",
       "      <th>1</th>\n",
       "      <td>Intermediate Level</td>\n",
       "      <td>2526</td>\n",
       "      <td>2174</td>\n",
       "    </tr>\n",
       "    <tr>\n",
       "      <th>2</th>\n",
       "      <td>All Levels</td>\n",
       "      <td>11574</td>\n",
       "      <td>2147</td>\n",
       "    </tr>\n",
       "    <tr>\n",
       "      <th>3</th>\n",
       "      <td>Beginner Level</td>\n",
       "      <td>7620</td>\n",
       "      <td>1540</td>\n",
       "    </tr>\n",
       "  </tbody>\n",
       "</table>\n",
       "</div>"
      ],
      "text/plain": [
       "                level  level_count  num_subscribers\n",
       "0        Expert Level          348             5172\n",
       "1  Intermediate Level         2526             2174\n",
       "2          All Levels        11574             2147\n",
       "3      Beginner Level         7620             1540"
      ]
     },
     "execution_count": 39,
     "metadata": {},
     "output_type": "execute_result"
    }
   ],
   "source": [
    "query_level_udemy = pd.read_sql(''' SELECT level, COUNT(level) AS level_count, num_subscribers\n",
    "                        FROM udemy\n",
    "                        GROUP BY level\n",
    "                        ORDER BY num_subscribers DESC ''', udemy_conn)\n",
    "query_level_udemy"
   ]
  },
  {
   "cell_type": "code",
   "execution_count": 40,
   "id": "b7a660d8",
   "metadata": {},
   "outputs": [
    {
     "data": {
      "text/plain": [
       "<AxesSubplot:xlabel='level'>"
      ]
     },
     "execution_count": 40,
     "metadata": {},
     "output_type": "execute_result"
    },
    {
     "data": {
      "image/png": "[encoded data removed]",
      "text/plain": [
       "<Figure size 864x432 with 1 Axes>"
      ]
     },
     "metadata": {
      "needs_background": "light"
     },
     "output_type": "display_data"
    }
   ],
   "source": [
    "query_level_udemy.plot(kind='bar', x = 'level', y = 'num_subscribers', color = 'grey')"
   ]
  },
  {
   "cell_type": "code",
   "execution_count": 87,
   "id": "004ebb8b",
   "metadata": {},
   "outputs": [],
   "source": [
    "query_level_udemy_csv = query_level_udemy.to_csv('query_level_udemy.csv')"
   ]
  },
  {
   "cell_type": "code",
   "execution_count": 76,
   "id": "dc5cd778",
   "metadata": {},
   "outputs": [
    {
     "data": {
      "text/html": [
       "<div>\n",
       "<style scoped>\n",
       "    .dataframe tbody tr th:only-of-type {\n",
       "        vertical-align: middle;\n",
       "    }\n",
       "\n",
       "    .dataframe tbody tr th {\n",
       "        vertical-align: top;\n",
       "    }\n",
       "\n",
       "    .dataframe thead th {\n",
       "        text-align: right;\n",
       "    }\n",
       "</style>\n",
       "<table border=\"1\" class=\"dataframe\">\n",
       "  <thead>\n",
       "    <tr style=\"text-align: right;\">\n",
       "      <th></th>\n",
       "      <th>subject</th>\n",
       "      <th>course_count</th>\n",
       "      <th>avg_subscribers</th>\n",
       "    </tr>\n",
       "  </thead>\n",
       "  <tbody>\n",
       "    <tr>\n",
       "      <th>0</th>\n",
       "      <td>Business Finance</td>\n",
       "      <td>7170</td>\n",
       "      <td>1563.774895</td>\n",
       "    </tr>\n",
       "    <tr>\n",
       "      <th>1</th>\n",
       "      <td>Graphic Design</td>\n",
       "      <td>3618</td>\n",
       "      <td>1763.097844</td>\n",
       "    </tr>\n",
       "    <tr>\n",
       "      <th>2</th>\n",
       "      <td>Musical Instruments</td>\n",
       "      <td>4080</td>\n",
       "      <td>1245.130882</td>\n",
       "    </tr>\n",
       "    <tr>\n",
       "      <th>3</th>\n",
       "      <td>Web Development</td>\n",
       "      <td>7200</td>\n",
       "      <td>6650.476667</td>\n",
       "    </tr>\n",
       "  </tbody>\n",
       "</table>\n",
       "</div>"
      ],
      "text/plain": [
       "               subject  course_count  avg_subscribers\n",
       "0     Business Finance          7170      1563.774895\n",
       "1       Graphic Design          3618      1763.097844\n",
       "2  Musical Instruments          4080      1245.130882\n",
       "3      Web Development          7200      6650.476667"
      ]
     },
     "execution_count": 76,
     "metadata": {},
     "output_type": "execute_result"
    }
   ],
   "source": [
    "query_subject_udemy = pd.read_sql('''SELECT subject, COUNT(price) AS course_count, AVG(num_subscribers) AS avg_subscribers\n",
    "                                     FROM udemy\n",
    "                                     GROUP BY subject''', udemy_conn)\n",
    "query_subject_udemy"
   ]
  },
  {
   "cell_type": "code",
   "execution_count": 84,
   "id": "0810d4ac",
   "metadata": {
    "scrolled": false
   },
   "outputs": [
    {
     "data": {
      "image/png": "[encoded data removed]",
      "text/plain": [
       "<Figure size 864x432 with 1 Axes>"
      ]
     },
     "metadata": {},
     "output_type": "display_data"
    }
   ],
   "source": [
    "plt.figure(figsize=(12, 6))\n",
    "sns.barplot(data=query_subject_udemy, x='subject', y='avg_subscribers', color='grey')\n",
    "plt.title('Number of Subscribers per Subject')\n",
    "plt.xlabel('Subject')\n",
    "plt.ylabel('Number of Subscribers')\n",
    "plt.show()"
   ]
  },
  {
   "cell_type": "code",
   "execution_count": 88,
   "id": "a22c499e",
   "metadata": {},
   "outputs": [],
   "source": [
    "query_subject_udemy_csv = query_subject_udemy.to_csv('query_subject_udemy.csv')"
   ]
  },
  {
   "cell_type": "code",
   "execution_count": 77,
   "id": "f9258211",
   "metadata": {},
   "outputs": [
    {
     "data": {
      "text/html": [
       "<div>\n",
       "<style scoped>\n",
       "    .dataframe tbody tr th:only-of-type {\n",
       "        vertical-align: middle;\n",
       "    }\n",
       "\n",
       "    .dataframe tbody tr th {\n",
       "        vertical-align: top;\n",
       "    }\n",
       "\n",
       "    .dataframe thead th {\n",
       "        text-align: right;\n",
       "    }\n",
       "</style>\n",
       "<table border=\"1\" class=\"dataframe\">\n",
       "  <thead>\n",
       "    <tr style=\"text-align: right;\">\n",
       "      <th></th>\n",
       "      <th>level</th>\n",
       "      <th>subject</th>\n",
       "      <th>course_count</th>\n",
       "      <th>avg_lectures</th>\n",
       "    </tr>\n",
       "  </thead>\n",
       "  <tbody>\n",
       "    <tr>\n",
       "      <th>0</th>\n",
       "      <td>All Levels</td>\n",
       "      <td>Business Finance</td>\n",
       "      <td>4176</td>\n",
       "      <td>37.127874</td>\n",
       "    </tr>\n",
       "    <tr>\n",
       "      <th>1</th>\n",
       "      <td>All Levels</td>\n",
       "      <td>Graphic Design</td>\n",
       "      <td>1788</td>\n",
       "      <td>35.718121</td>\n",
       "    </tr>\n",
       "    <tr>\n",
       "      <th>2</th>\n",
       "      <td>All Levels</td>\n",
       "      <td>Musical Instruments</td>\n",
       "      <td>1656</td>\n",
       "      <td>42.586957</td>\n",
       "    </tr>\n",
       "    <tr>\n",
       "      <th>3</th>\n",
       "      <td>All Levels</td>\n",
       "      <td>Web Development</td>\n",
       "      <td>3954</td>\n",
       "      <td>61.394537</td>\n",
       "    </tr>\n",
       "    <tr>\n",
       "      <th>4</th>\n",
       "      <td>Beginner Level</td>\n",
       "      <td>Business Finance</td>\n",
       "      <td>2040</td>\n",
       "      <td>27.438235</td>\n",
       "    </tr>\n",
       "    <tr>\n",
       "      <th>5</th>\n",
       "      <td>Beginner Level</td>\n",
       "      <td>Graphic Design</td>\n",
       "      <td>1458</td>\n",
       "      <td>29.329218</td>\n",
       "    </tr>\n",
       "    <tr>\n",
       "      <th>6</th>\n",
       "      <td>Beginner Level</td>\n",
       "      <td>Musical Instruments</td>\n",
       "      <td>1776</td>\n",
       "      <td>33.601351</td>\n",
       "    </tr>\n",
       "    <tr>\n",
       "      <th>7</th>\n",
       "      <td>Beginner Level</td>\n",
       "      <td>Web Development</td>\n",
       "      <td>2346</td>\n",
       "      <td>39.657289</td>\n",
       "    </tr>\n",
       "    <tr>\n",
       "      <th>8</th>\n",
       "      <td>Expert Level</td>\n",
       "      <td>Business Finance</td>\n",
       "      <td>186</td>\n",
       "      <td>19.774194</td>\n",
       "    </tr>\n",
       "    <tr>\n",
       "      <th>9</th>\n",
       "      <td>Expert Level</td>\n",
       "      <td>Graphic Design</td>\n",
       "      <td>30</td>\n",
       "      <td>33.800000</td>\n",
       "    </tr>\n",
       "    <tr>\n",
       "      <th>10</th>\n",
       "      <td>Expert Level</td>\n",
       "      <td>Musical Instruments</td>\n",
       "      <td>42</td>\n",
       "      <td>39.428571</td>\n",
       "    </tr>\n",
       "    <tr>\n",
       "      <th>11</th>\n",
       "      <td>Expert Level</td>\n",
       "      <td>Web Development</td>\n",
       "      <td>90</td>\n",
       "      <td>48.466667</td>\n",
       "    </tr>\n",
       "    <tr>\n",
       "      <th>12</th>\n",
       "      <td>Intermediate Level</td>\n",
       "      <td>Business Finance</td>\n",
       "      <td>768</td>\n",
       "      <td>23.218750</td>\n",
       "    </tr>\n",
       "    <tr>\n",
       "      <th>13</th>\n",
       "      <td>Intermediate Level</td>\n",
       "      <td>Graphic Design</td>\n",
       "      <td>342</td>\n",
       "      <td>24.368421</td>\n",
       "    </tr>\n",
       "    <tr>\n",
       "      <th>14</th>\n",
       "      <td>Intermediate Level</td>\n",
       "      <td>Musical Instruments</td>\n",
       "      <td>606</td>\n",
       "      <td>40.386139</td>\n",
       "    </tr>\n",
       "    <tr>\n",
       "      <th>15</th>\n",
       "      <td>Intermediate Level</td>\n",
       "      <td>Web Development</td>\n",
       "      <td>810</td>\n",
       "      <td>49.548148</td>\n",
       "    </tr>\n",
       "  </tbody>\n",
       "</table>\n",
       "</div>"
      ],
      "text/plain": [
       "                 level              subject  course_count  avg_lectures\n",
       "0           All Levels     Business Finance          4176     37.127874\n",
       "1           All Levels       Graphic Design          1788     35.718121\n",
       "2           All Levels  Musical Instruments          1656     42.586957\n",
       "3           All Levels      Web Development          3954     61.394537\n",
       "4       Beginner Level     Business Finance          2040     27.438235\n",
       "5       Beginner Level       Graphic Design          1458     29.329218\n",
       "6       Beginner Level  Musical Instruments          1776     33.601351\n",
       "7       Beginner Level      Web Development          2346     39.657289\n",
       "8         Expert Level     Business Finance           186     19.774194\n",
       "9         Expert Level       Graphic Design            30     33.800000\n",
       "10        Expert Level  Musical Instruments            42     39.428571\n",
       "11        Expert Level      Web Development            90     48.466667\n",
       "12  Intermediate Level     Business Finance           768     23.218750\n",
       "13  Intermediate Level       Graphic Design           342     24.368421\n",
       "14  Intermediate Level  Musical Instruments           606     40.386139\n",
       "15  Intermediate Level      Web Development           810     49.548148"
      ]
     },
     "execution_count": 77,
     "metadata": {},
     "output_type": "execute_result"
    }
   ],
   "source": [
    "query_level_subject_udemy = pd.read_sql('''SELECT level, subject, COUNT(price) AS course_count, AVG(num_lectures) AS avg_lectures\n",
    "                                            FROM udemy\n",
    "                                            GROUP BY level, subject''', udemy_conn)\n",
    "query_level_subject_udemy"
   ]
  },
  {
   "cell_type": "code",
   "execution_count": 86,
   "id": "0507ad61",
   "metadata": {
    "scrolled": true
   },
   "outputs": [
    {
     "data": {
      "image/png": "[encoded data removed]",
      "text/plain": [
       "<Figure size 864x432 with 1 Axes>"
      ]
     },
     "metadata": {},
     "output_type": "display_data"
    }
   ],
   "source": [
    "plt.figure(figsize=(12, 6))\n",
    "sns.barplot(data=query_level_subject_udemy, x='subject', y='course_count', hue = 'level', color='grey')\n",
    "plt.title('Number of Subscribers per Subject')\n",
    "plt.xlabel('Subject')\n",
    "plt.ylabel('Number of Subscribers')\n",
    "plt.show()"
   ]
  },
  {
   "cell_type": "code",
   "execution_count": 89,
   "id": "0e2372a6",
   "metadata": {},
   "outputs": [],
   "source": [
    "query_level_subject_udemy_csv = query_level_subject_udemy.to_csv('query_level_subject_udemy.csv')"
   ]
  },
  {
   "cell_type": "code",
   "execution_count": 41,
   "id": "7d3ba6a4",
   "metadata": {},
   "outputs": [
    {
     "data": {
      "text/html": [
       "<div>\n",
       "<style scoped>\n",
       "    .dataframe tbody tr th:only-of-type {\n",
       "        vertical-align: middle;\n",
       "    }\n",
       "\n",
       "    .dataframe tbody tr th {\n",
       "        vertical-align: top;\n",
       "    }\n",
       "\n",
       "    .dataframe thead th {\n",
       "        text-align: right;\n",
       "    }\n",
       "</style>\n",
       "<table border=\"1\" class=\"dataframe\">\n",
       "  <thead>\n",
       "    <tr style=\"text-align: right;\">\n",
       "      <th></th>\n",
       "      <th>title</th>\n",
       "      <th>summary</th>\n",
       "      <th>n_enrolled</th>\n",
       "      <th>course_type</th>\n",
       "      <th>institution</th>\n",
       "      <th>instructors</th>\n",
       "      <th>Level</th>\n",
       "      <th>subject</th>\n",
       "      <th>language</th>\n",
       "      <th>subtitles</th>\n",
       "      <th>course_effort</th>\n",
       "      <th>course_length</th>\n",
       "      <th>price</th>\n",
       "      <th>course_description</th>\n",
       "      <th>course_syllabus</th>\n",
       "      <th>course_url</th>\n",
       "    </tr>\n",
       "  </thead>\n",
       "  <tbody>\n",
       "    <tr>\n",
       "      <th>0</th>\n",
       "      <td>How to Learn Online</td>\n",
       "      <td>Learn essential strategies for successful onli...</td>\n",
       "      <td>124,980</td>\n",
       "      <td>Self-paced on your time</td>\n",
       "      <td>edX</td>\n",
       "      <td>Nina Huntemann-Robyn Belair-Ben Piscopo</td>\n",
       "      <td>Introductory</td>\n",
       "      <td>Education &amp; Teacher Training</td>\n",
       "      <td>English</td>\n",
       "      <td>English</td>\n",
       "      <td>2–3 hours per week</td>\n",
       "      <td>2 Weeks</td>\n",
       "      <td>FREE-Add a Verified Certificate for $49 USD</td>\n",
       "      <td>Designed for those who are new to elearning, t...</td>\n",
       "      <td>Welcome - We start with opportunities to meet ...</td>\n",
       "      <td>https://www.edx.org/course/how-to-learn-online</td>\n",
       "    </tr>\n",
       "    <tr>\n",
       "      <th>1</th>\n",
       "      <td>Programming for Everybody (Getting Started wit...</td>\n",
       "      <td>This course is a \"no prerequisite\" introductio...</td>\n",
       "      <td>293,864</td>\n",
       "      <td>Self-paced on your time</td>\n",
       "      <td>The University of Michigan</td>\n",
       "      <td>Charles Severance</td>\n",
       "      <td>Introductory</td>\n",
       "      <td>Computer Science</td>\n",
       "      <td>English</td>\n",
       "      <td>English</td>\n",
       "      <td>2–4 hours per week</td>\n",
       "      <td>7 Weeks</td>\n",
       "      <td>FREE-Add a Verified Certificate for $49 USD</td>\n",
       "      <td>This course aims to teach everyone the basics ...</td>\n",
       "      <td>NaN</td>\n",
       "      <td>https://www.edx.org/course/programming-for-eve...</td>\n",
       "    </tr>\n",
       "    <tr>\n",
       "      <th>2</th>\n",
       "      <td>CS50's Introduction to Computer Science</td>\n",
       "      <td>An introduction to the intellectual enterprise...</td>\n",
       "      <td>2,442,271</td>\n",
       "      <td>Self-paced on your time</td>\n",
       "      <td>Harvard University</td>\n",
       "      <td>David J. Malan-Doug Lloyd-Brian Yu</td>\n",
       "      <td>Introductory</td>\n",
       "      <td>Computer Science</td>\n",
       "      <td>English</td>\n",
       "      <td>English</td>\n",
       "      <td>6–18 hours per week</td>\n",
       "      <td>12 Weeks</td>\n",
       "      <td>FREE-Add a Verified Certificate for $90 USD</td>\n",
       "      <td>This is CS50x , Harvard University's introduct...</td>\n",
       "      <td>NaN</td>\n",
       "      <td>https://www.edx.org/course/cs50s-introduction-...</td>\n",
       "    </tr>\n",
       "    <tr>\n",
       "      <th>3</th>\n",
       "      <td>The Analytics Edge</td>\n",
       "      <td>Through inspiring examples and stories, discov...</td>\n",
       "      <td>129,555</td>\n",
       "      <td>Instructor-led on a course schedule</td>\n",
       "      <td>Massachusetts Institute of Technology</td>\n",
       "      <td>Dimitris Bertsimas-Allison O'Hair-John Silberh...</td>\n",
       "      <td>Intermediate</td>\n",
       "      <td>Data Analysis &amp; Statistics</td>\n",
       "      <td>English</td>\n",
       "      <td>English</td>\n",
       "      <td>10–15 hours per week</td>\n",
       "      <td>13 Weeks</td>\n",
       "      <td>FREE-Add a Verified Certificate for $199 USD</td>\n",
       "      <td>In the last decade, the amount of data availab...</td>\n",
       "      <td>NaN</td>\n",
       "      <td>https://www.edx.org/course/the-analytics-edge</td>\n",
       "    </tr>\n",
       "    <tr>\n",
       "      <th>4</th>\n",
       "      <td>Marketing Analytics: Marketing Measurement Str...</td>\n",
       "      <td>This course is part of a MicroMasters® Program</td>\n",
       "      <td>81,140</td>\n",
       "      <td>Self-paced on your time</td>\n",
       "      <td>University of California, Berkeley</td>\n",
       "      <td>Stephan Sorger</td>\n",
       "      <td>Introductory</td>\n",
       "      <td>Computer Science</td>\n",
       "      <td>English</td>\n",
       "      <td>English</td>\n",
       "      <td>5–7 hours per week</td>\n",
       "      <td>4 Weeks</td>\n",
       "      <td>FREE-Add a Verified Certificate for $249 USD</td>\n",
       "      <td>Begin your journey in a new career in marketin...</td>\n",
       "      <td>NaN</td>\n",
       "      <td>https://www.edx.org/course/marketing-analytics...</td>\n",
       "    </tr>\n",
       "    <tr>\n",
       "      <th>...</th>\n",
       "      <td>...</td>\n",
       "      <td>...</td>\n",
       "      <td>...</td>\n",
       "      <td>...</td>\n",
       "      <td>...</td>\n",
       "      <td>...</td>\n",
       "      <td>...</td>\n",
       "      <td>...</td>\n",
       "      <td>...</td>\n",
       "      <td>...</td>\n",
       "      <td>...</td>\n",
       "      <td>...</td>\n",
       "      <td>...</td>\n",
       "      <td>...</td>\n",
       "      <td>...</td>\n",
       "      <td>...</td>\n",
       "    </tr>\n",
       "    <tr>\n",
       "      <th>970</th>\n",
       "      <td>Leaders in Citizen Security and Justice Manage...</td>\n",
       "      <td>Learn about the latest in prevention, police a...</td>\n",
       "      <td>NaN</td>\n",
       "      <td>Self-paced on your time</td>\n",
       "      <td>Inter-American Development Bank</td>\n",
       "      <td>Olga Espinoza-Eduardo Pazinato-Alejandra Mera-...</td>\n",
       "      <td>Intermediate</td>\n",
       "      <td>Social Sciences</td>\n",
       "      <td>English</td>\n",
       "      <td>English</td>\n",
       "      <td>4–5 hours per week</td>\n",
       "      <td>10 Weeks</td>\n",
       "      <td>FREE-Add a Verified Certificate for $25 USD</td>\n",
       "      <td>The high rates of crime and violence are two o...</td>\n",
       "      <td>NaN</td>\n",
       "      <td>https://www.edx.org/course/leaders-in-citizen-...</td>\n",
       "    </tr>\n",
       "    <tr>\n",
       "      <th>971</th>\n",
       "      <td>Pattern Studying and Making | 图案审美与创作</td>\n",
       "      <td>Fantastic experiences in beauty and its repres...</td>\n",
       "      <td>NaN</td>\n",
       "      <td>Self-paced on your time</td>\n",
       "      <td>Tsinghua University</td>\n",
       "      <td>Yuehua Nie</td>\n",
       "      <td>Introductory</td>\n",
       "      <td>Art &amp; Culture</td>\n",
       "      <td>中文</td>\n",
       "      <td>English, 中文</td>\n",
       "      <td>3–5 hours per week</td>\n",
       "      <td>12 Weeks</td>\n",
       "      <td>FREE-Add a Verified Certificate for $139 USD</td>\n",
       "      <td>Are you an original designer? Or a DIY fancier...</td>\n",
       "      <td>NaN</td>\n",
       "      <td>https://www.edx.org/course/pattern-studying-an...</td>\n",
       "    </tr>\n",
       "    <tr>\n",
       "      <th>972</th>\n",
       "      <td>Computational Neuroscience: Neuronal Dynamics ...</td>\n",
       "      <td>This course explains the mathematical and comp...</td>\n",
       "      <td>11,246</td>\n",
       "      <td>Self-paced on your time</td>\n",
       "      <td>École polytechnique fédérale de Lausanne</td>\n",
       "      <td>Wulfram Gerstner</td>\n",
       "      <td>Advanced</td>\n",
       "      <td>Biology &amp; Life Sciences</td>\n",
       "      <td>English</td>\n",
       "      <td>English</td>\n",
       "      <td>4–6 hours per week</td>\n",
       "      <td>6 Weeks</td>\n",
       "      <td>FREE-Add a Verified Certificate for $139 USD</td>\n",
       "      <td>What happens in your brain when you make a dec...</td>\n",
       "      <td>Textbook: Neuronal Dynamics - from single neur...</td>\n",
       "      <td>https://www.edx.org/course/computational-neuro...</td>\n",
       "    </tr>\n",
       "    <tr>\n",
       "      <th>973</th>\n",
       "      <td>Cities and the Challenge of Sustainable Develo...</td>\n",
       "      <td>What is a sustainable city? Learn the basics h...</td>\n",
       "      <td>8,775</td>\n",
       "      <td>Self-paced on your time</td>\n",
       "      <td>SDG Academy</td>\n",
       "      <td>Jeffrey D. Sachs</td>\n",
       "      <td>Introductory</td>\n",
       "      <td>Environmental Studies</td>\n",
       "      <td>English</td>\n",
       "      <td>English</td>\n",
       "      <td>1–2 hours per week</td>\n",
       "      <td>1 Weeks</td>\n",
       "      <td>FREE-Add a Verified Certificate for $25 USD</td>\n",
       "      <td>According to the United Nations, urbanization ...</td>\n",
       "      <td>Module 1: Introduction to the SDGsProfessor Je...</td>\n",
       "      <td>https://www.edx.org/course/cities-and-the-chal...</td>\n",
       "    </tr>\n",
       "    <tr>\n",
       "      <th>974</th>\n",
       "      <td>MathTrackX: Special Functions</td>\n",
       "      <td>Understand trigonometric, exponential and loga...</td>\n",
       "      <td>NaN</td>\n",
       "      <td>Self-paced on your time</td>\n",
       "      <td>University of Adelaide</td>\n",
       "      <td>Dr David Butler</td>\n",
       "      <td>Introductory</td>\n",
       "      <td>Math</td>\n",
       "      <td>English</td>\n",
       "      <td>English</td>\n",
       "      <td>3–6 hours per week</td>\n",
       "      <td>4 Weeks</td>\n",
       "      <td>FREE-Add a Verified Certificate for $79 USD</td>\n",
       "      <td>This course is part two of the MathTrackX XSer...</td>\n",
       "      <td>NaN</td>\n",
       "      <td>https://www.edx.org/course/mathtrackx-special-...</td>\n",
       "    </tr>\n",
       "  </tbody>\n",
       "</table>\n",
       "<p>975 rows × 16 columns</p>\n",
       "</div>"
      ],
      "text/plain": [
       "                                                 title  \\\n",
       "0                                  How to Learn Online   \n",
       "1    Programming for Everybody (Getting Started wit...   \n",
       "2              CS50's Introduction to Computer Science   \n",
       "3                                   The Analytics Edge   \n",
       "4    Marketing Analytics: Marketing Measurement Str...   \n",
       "..                                                 ...   \n",
       "970  Leaders in Citizen Security and Justice Manage...   \n",
       "971              Pattern Studying and Making | 图案审美与创作   \n",
       "972  Computational Neuroscience: Neuronal Dynamics ...   \n",
       "973  Cities and the Challenge of Sustainable Develo...   \n",
       "974                      MathTrackX: Special Functions   \n",
       "\n",
       "                                               summary n_enrolled  \\\n",
       "0    Learn essential strategies for successful onli...    124,980   \n",
       "1    This course is a \"no prerequisite\" introductio...    293,864   \n",
       "2    An introduction to the intellectual enterprise...  2,442,271   \n",
       "3    Through inspiring examples and stories, discov...    129,555   \n",
       "4       This course is part of a MicroMasters® Program     81,140   \n",
       "..                                                 ...        ...   \n",
       "970  Learn about the latest in prevention, police a...        NaN   \n",
       "971  Fantastic experiences in beauty and its repres...        NaN   \n",
       "972  This course explains the mathematical and comp...     11,246   \n",
       "973  What is a sustainable city? Learn the basics h...      8,775   \n",
       "974  Understand trigonometric, exponential and loga...        NaN   \n",
       "\n",
       "                             course_type  \\\n",
       "0                Self-paced on your time   \n",
       "1                Self-paced on your time   \n",
       "2                Self-paced on your time   \n",
       "3    Instructor-led on a course schedule   \n",
       "4                Self-paced on your time   \n",
       "..                                   ...   \n",
       "970              Self-paced on your time   \n",
       "971              Self-paced on your time   \n",
       "972              Self-paced on your time   \n",
       "973              Self-paced on your time   \n",
       "974              Self-paced on your time   \n",
       "\n",
       "                                  institution  \\\n",
       "0                                         edX   \n",
       "1                  The University of Michigan   \n",
       "2                          Harvard University   \n",
       "3       Massachusetts Institute of Technology   \n",
       "4          University of California, Berkeley   \n",
       "..                                        ...   \n",
       "970           Inter-American Development Bank   \n",
       "971                       Tsinghua University   \n",
       "972  École polytechnique fédérale de Lausanne   \n",
       "973                               SDG Academy   \n",
       "974                    University of Adelaide   \n",
       "\n",
       "                                           instructors         Level  \\\n",
       "0              Nina Huntemann-Robyn Belair-Ben Piscopo  Introductory   \n",
       "1                                    Charles Severance  Introductory   \n",
       "2                   David J. Malan-Doug Lloyd-Brian Yu  Introductory   \n",
       "3    Dimitris Bertsimas-Allison O'Hair-John Silberh...  Intermediate   \n",
       "4                                       Stephan Sorger  Introductory   \n",
       "..                                                 ...           ...   \n",
       "970  Olga Espinoza-Eduardo Pazinato-Alejandra Mera-...  Intermediate   \n",
       "971                                         Yuehua Nie  Introductory   \n",
       "972                                   Wulfram Gerstner      Advanced   \n",
       "973                                   Jeffrey D. Sachs  Introductory   \n",
       "974                                    Dr David Butler  Introductory   \n",
       "\n",
       "                          subject language    subtitles         course_effort  \\\n",
       "0    Education & Teacher Training  English      English    2–3 hours per week   \n",
       "1                Computer Science  English      English    2–4 hours per week   \n",
       "2                Computer Science  English      English   6–18 hours per week   \n",
       "3      Data Analysis & Statistics  English      English  10–15 hours per week   \n",
       "4                Computer Science  English      English    5–7 hours per week   \n",
       "..                            ...      ...          ...                   ...   \n",
       "970               Social Sciences  English      English    4–5 hours per week   \n",
       "971                 Art & Culture       中文  English, 中文    3–5 hours per week   \n",
       "972       Biology & Life Sciences  English      English    4–6 hours per week   \n",
       "973         Environmental Studies  English      English    1–2 hours per week   \n",
       "974                          Math  English      English    3–6 hours per week   \n",
       "\n",
       "    course_length                                         price  \\\n",
       "0         2 Weeks   FREE-Add a Verified Certificate for $49 USD   \n",
       "1         7 Weeks   FREE-Add a Verified Certificate for $49 USD   \n",
       "2        12 Weeks   FREE-Add a Verified Certificate for $90 USD   \n",
       "3        13 Weeks  FREE-Add a Verified Certificate for $199 USD   \n",
       "4         4 Weeks  FREE-Add a Verified Certificate for $249 USD   \n",
       "..            ...                                           ...   \n",
       "970      10 Weeks   FREE-Add a Verified Certificate for $25 USD   \n",
       "971      12 Weeks  FREE-Add a Verified Certificate for $139 USD   \n",
       "972       6 Weeks  FREE-Add a Verified Certificate for $139 USD   \n",
       "973       1 Weeks   FREE-Add a Verified Certificate for $25 USD   \n",
       "974       4 Weeks   FREE-Add a Verified Certificate for $79 USD   \n",
       "\n",
       "                                    course_description  \\\n",
       "0    Designed for those who are new to elearning, t...   \n",
       "1    This course aims to teach everyone the basics ...   \n",
       "2    This is CS50x , Harvard University's introduct...   \n",
       "3    In the last decade, the amount of data availab...   \n",
       "4    Begin your journey in a new career in marketin...   \n",
       "..                                                 ...   \n",
       "970  The high rates of crime and violence are two o...   \n",
       "971  Are you an original designer? Or a DIY fancier...   \n",
       "972  What happens in your brain when you make a dec...   \n",
       "973  According to the United Nations, urbanization ...   \n",
       "974  This course is part two of the MathTrackX XSer...   \n",
       "\n",
       "                                       course_syllabus  \\\n",
       "0    Welcome - We start with opportunities to meet ...   \n",
       "1                                                  NaN   \n",
       "2                                                  NaN   \n",
       "3                                                  NaN   \n",
       "4                                                  NaN   \n",
       "..                                                 ...   \n",
       "970                                                NaN   \n",
       "971                                                NaN   \n",
       "972  Textbook: Neuronal Dynamics - from single neur...   \n",
       "973  Module 1: Introduction to the SDGsProfessor Je...   \n",
       "974                                                NaN   \n",
       "\n",
       "                                            course_url  \n",
       "0       https://www.edx.org/course/how-to-learn-online  \n",
       "1    https://www.edx.org/course/programming-for-eve...  \n",
       "2    https://www.edx.org/course/cs50s-introduction-...  \n",
       "3        https://www.edx.org/course/the-analytics-edge  \n",
       "4    https://www.edx.org/course/marketing-analytics...  \n",
       "..                                                 ...  \n",
       "970  https://www.edx.org/course/leaders-in-citizen-...  \n",
       "971  https://www.edx.org/course/pattern-studying-an...  \n",
       "972  https://www.edx.org/course/computational-neuro...  \n",
       "973  https://www.edx.org/course/cities-and-the-chal...  \n",
       "974  https://www.edx.org/course/mathtrackx-special-...  \n",
       "\n",
       "[975 rows x 16 columns]"
      ]
     },
     "execution_count": 41,
     "metadata": {},
     "output_type": "execute_result"
    }
   ],
   "source": [
    "edx"
   ]
  },
  {
   "cell_type": "code",
   "execution_count": 42,
   "id": "18fe6f48",
   "metadata": {},
   "outputs": [
    {
     "data": {
      "text/plain": [
       "title                 object\n",
       "summary               object\n",
       "n_enrolled            object\n",
       "course_type           object\n",
       "institution           object\n",
       "instructors           object\n",
       "Level                 object\n",
       "subject               object\n",
       "language              object\n",
       "subtitles             object\n",
       "course_effort         object\n",
       "course_length         object\n",
       "price                 object\n",
       "course_description    object\n",
       "course_syllabus       object\n",
       "course_url            object\n",
       "dtype: object"
      ]
     },
     "execution_count": 42,
     "metadata": {},
     "output_type": "execute_result"
    }
   ],
   "source": [
    "edx.dtypes"
   ]
  },
  {
   "cell_type": "code",
   "execution_count": 43,
   "id": "05735115",
   "metadata": {},
   "outputs": [],
   "source": [
    "edx['n_enrolled'] = edx['n_enrolled'].str.replace(',', '').astype(float)"
   ]
  },
  {
   "cell_type": "code",
   "execution_count": 44,
   "id": "ff332874",
   "metadata": {},
   "outputs": [
    {
     "name": "stderr",
     "output_type": "stream",
     "text": [
      "C:\\Users\\DRASEC~1\\AppData\\Local\\Temp/ipykernel_10008/242485523.py:2: FutureWarning: The default value of regex will change from True to False in a future version. In addition, single character regular expressions will *not* be treated as literal strings when regex=True.\n",
      "  edx['price'] = edx['price'].str.replace('$', '')\n"
     ]
    }
   ],
   "source": [
    "edx['price'] = edx['price'].str.replace('FREE-Add a Verified Certificate for', '')\n",
    "edx['price'] = edx['price'].str.replace('$', '')\n",
    "edx['price'] = edx['price'].str.replace('USD', '')"
   ]
  },
  {
   "cell_type": "code",
   "execution_count": 45,
   "id": "3ab0da4a",
   "metadata": {},
   "outputs": [],
   "source": [
    "edx['price'] = edx['price'].astype(float)"
   ]
  },
  {
   "cell_type": "code",
   "execution_count": 46,
   "id": "a68e09aa",
   "metadata": {},
   "outputs": [
    {
     "data": {
      "text/plain": [
       "Index(['title', 'summary', 'n_enrolled', 'course_type', 'institution',\n",
       "       'instructors', 'Level', 'subject', 'language', 'subtitles',\n",
       "       'course_effort', 'course_length', 'price', 'course_description',\n",
       "       'course_syllabus', 'course_url'],\n",
       "      dtype='object')"
      ]
     },
     "execution_count": 46,
     "metadata": {},
     "output_type": "execute_result"
    }
   ],
   "source": [
    "edx.columns"
   ]
  },
  {
   "cell_type": "code",
   "execution_count": 47,
   "id": "05ab85be",
   "metadata": {},
   "outputs": [],
   "source": [
    "edx = edx.drop(columns = ['course_url'])"
   ]
  },
  {
   "cell_type": "code",
   "execution_count": 48,
   "id": "ee684034",
   "metadata": {},
   "outputs": [
    {
     "data": {
      "text/plain": [
       "title                   0\n",
       "summary                53\n",
       "n_enrolled            120\n",
       "course_type             0\n",
       "institution             0\n",
       "instructors             3\n",
       "Level                   0\n",
       "subject                 0\n",
       "language                0\n",
       "subtitles               3\n",
       "course_effort           0\n",
       "course_length           0\n",
       "price                   0\n",
       "course_description     40\n",
       "course_syllabus       558\n",
       "dtype: int64"
      ]
     },
     "execution_count": 48,
     "metadata": {},
     "output_type": "execute_result"
    }
   ],
   "source": [
    "edx.isna().sum()"
   ]
  },
  {
   "cell_type": "code",
   "execution_count": 49,
   "id": "0b797787",
   "metadata": {},
   "outputs": [],
   "source": [
    "edx = edx.dropna(subset=['n_enrolled'])"
   ]
  },
  {
   "cell_type": "code",
   "execution_count": 50,
   "id": "46740504",
   "metadata": {},
   "outputs": [
    {
     "data": {
      "text/plain": [
       "title                   0\n",
       "summary                49\n",
       "n_enrolled              0\n",
       "course_type             0\n",
       "institution             0\n",
       "instructors             3\n",
       "Level                   0\n",
       "subject                 0\n",
       "language                0\n",
       "subtitles               3\n",
       "course_effort           0\n",
       "course_length           0\n",
       "price                   0\n",
       "course_description     33\n",
       "course_syllabus       492\n",
       "dtype: int64"
      ]
     },
     "execution_count": 50,
     "metadata": {},
     "output_type": "execute_result"
    }
   ],
   "source": [
    "edx.isna().sum()"
   ]
  },
  {
   "cell_type": "code",
   "execution_count": 51,
   "id": "ced60170",
   "metadata": {},
   "outputs": [
    {
     "data": {
      "text/plain": [
       "array([[<AxesSubplot:title={'center':'n_enrolled'}>,\n",
       "        <AxesSubplot:title={'center':'price'}>]], dtype=object)"
      ]
     },
     "execution_count": 51,
     "metadata": {},
     "output_type": "execute_result"
    },
    {
     "data": {
      "image/png": "[encoded data removed]",
      "text/plain": [
       "<Figure size 1080x720 with 2 Axes>"
      ]
     },
     "metadata": {
      "needs_background": "light"
     },
     "output_type": "display_data"
    }
   ],
   "source": [
    "edx.hist(figsize=(15, 10), edgecolor='white', color='gold', grid=True)"
   ]
  },
  {
   "cell_type": "code",
   "execution_count": 52,
   "id": "2fce8cc1",
   "metadata": {},
   "outputs": [],
   "source": [
    "edx_col_num = edx[['n_enrolled', 'price']]"
   ]
  },
  {
   "cell_type": "code",
   "execution_count": 53,
   "id": "80dcb077",
   "metadata": {},
   "outputs": [],
   "source": [
    "edx_outliers = (np.abs(stats.zscore(edx_col_num)) < 3).all(axis=1)"
   ]
  },
  {
   "cell_type": "code",
   "execution_count": 54,
   "id": "d97f8fc2",
   "metadata": {},
   "outputs": [],
   "source": [
    "outlier_rows_edx = edx_col_num[~edx_outliers]"
   ]
  },
  {
   "cell_type": "code",
   "execution_count": 55,
   "id": "5a3370bc",
   "metadata": {},
   "outputs": [],
   "source": [
    "edx_col_num_filtered = edx_col_num[edx_outliers]"
   ]
  },
  {
   "cell_type": "code",
   "execution_count": 56,
   "id": "10349f49",
   "metadata": {},
   "outputs": [
    {
     "data": {
      "text/plain": [
       "array([[<AxesSubplot:title={'center':'n_enrolled'}>,\n",
       "        <AxesSubplot:title={'center':'price'}>]], dtype=object)"
      ]
     },
     "execution_count": 56,
     "metadata": {},
     "output_type": "execute_result"
    },
    {
     "data": {
      "image/png": "[encoded data removed]",
      "text/plain": [
       "<Figure size 1080x720 with 2 Axes>"
      ]
     },
     "metadata": {
      "needs_background": "light"
     },
     "output_type": "display_data"
    }
   ],
   "source": [
    "edx_col_num_filtered.hist(figsize=(15, 10), edgecolor='white', color='gold', grid=True)\n"
   ]
  },
  {
   "cell_type": "code",
   "execution_count": 57,
   "id": "349db1e8",
   "metadata": {},
   "outputs": [
    {
     "data": {
      "image/png": "[encoded data removed]",
      "text/plain": [
       "<Figure size 864x432 with 1 Axes>"
      ]
     },
     "metadata": {
      "needs_background": "light"
     },
     "output_type": "display_data"
    }
   ],
   "source": [
    "plt.scatter(edx_col_num_filtered['price'], edx_col_num_filtered['n_enrolled'], color = 'gold')\n",
    "plt.title('Price vs. Number of students, without outliers')\n",
    "plt.xlabel('Price')\n",
    "plt.ylabel('Number of Students')\n",
    "plt.grid(True)\n",
    "plt.show()"
   ]
  },
  {
   "cell_type": "code",
   "execution_count": 58,
   "id": "9b11e244",
   "metadata": {},
   "outputs": [],
   "source": [
    "Path('edx_sql.db').touch()"
   ]
  },
  {
   "cell_type": "code",
   "execution_count": 59,
   "id": "62be1378",
   "metadata": {},
   "outputs": [],
   "source": [
    "edx_conn = sqlite3.connect(r'C:\\Users\\Draseczka\\Desktop\\SGH stuff\\edx_courses.db')\n",
    "edx_cursor = edx_conn.cursor()"
   ]
  },
  {
   "cell_type": "code",
   "execution_count": 60,
   "id": "4b332cd3",
   "metadata": {},
   "outputs": [
    {
     "data": {
      "text/plain": [
       "855"
      ]
     },
     "execution_count": 60,
     "metadata": {},
     "output_type": "execute_result"
    }
   ],
   "source": [
    "edx.to_sql('edx_sql', edx_conn, if_exists='append', index=False)\n"
   ]
  },
  {
   "cell_type": "code",
   "execution_count": 61,
   "id": "97f06c4f",
   "metadata": {},
   "outputs": [],
   "source": [
    "edx_query = pd.read_sql(''' SELECT * FROM edx_sql ''', edx_conn)\n"
   ]
  },
  {
   "cell_type": "code",
   "execution_count": 62,
   "id": "747f9045",
   "metadata": {
    "scrolled": true
   },
   "outputs": [
    {
     "data": {
      "text/html": [
       "<div>\n",
       "<style scoped>\n",
       "    .dataframe tbody tr th:only-of-type {\n",
       "        vertical-align: middle;\n",
       "    }\n",
       "\n",
       "    .dataframe tbody tr th {\n",
       "        vertical-align: top;\n",
       "    }\n",
       "\n",
       "    .dataframe thead th {\n",
       "        text-align: right;\n",
       "    }\n",
       "</style>\n",
       "<table border=\"1\" class=\"dataframe\">\n",
       "  <thead>\n",
       "    <tr style=\"text-align: right;\">\n",
       "      <th></th>\n",
       "      <th>title</th>\n",
       "      <th>summary</th>\n",
       "      <th>n_enrolled</th>\n",
       "      <th>course_type</th>\n",
       "      <th>institution</th>\n",
       "      <th>instructors</th>\n",
       "      <th>Level</th>\n",
       "      <th>subject</th>\n",
       "      <th>language</th>\n",
       "      <th>subtitles</th>\n",
       "      <th>course_effort</th>\n",
       "      <th>course_length</th>\n",
       "      <th>price</th>\n",
       "      <th>course_description</th>\n",
       "      <th>course_syllabus</th>\n",
       "      <th>course_url</th>\n",
       "    </tr>\n",
       "  </thead>\n",
       "  <tbody>\n",
       "    <tr>\n",
       "      <th>0</th>\n",
       "      <td>How to Learn Online</td>\n",
       "      <td>Learn essential strategies for successful onli...</td>\n",
       "      <td>124,980</td>\n",
       "      <td>Self-paced on your time</td>\n",
       "      <td>edX</td>\n",
       "      <td>Nina Huntemann-Robyn Belair-Ben Piscopo</td>\n",
       "      <td>Introductory</td>\n",
       "      <td>Education &amp; Teacher Training</td>\n",
       "      <td>English</td>\n",
       "      <td>English</td>\n",
       "      <td>2–3 hours per week</td>\n",
       "      <td>2 Weeks</td>\n",
       "      <td>FREE-Add a Verified Certificate for $49 USD</td>\n",
       "      <td>Designed for those who are new to elearning, t...</td>\n",
       "      <td>Welcome - We start with opportunities to meet ...</td>\n",
       "      <td>https://www.edx.org/course/how-to-learn-online</td>\n",
       "    </tr>\n",
       "    <tr>\n",
       "      <th>1</th>\n",
       "      <td>Programming for Everybody (Getting Started wit...</td>\n",
       "      <td>This course is a \"no prerequisite\" introductio...</td>\n",
       "      <td>293,864</td>\n",
       "      <td>Self-paced on your time</td>\n",
       "      <td>The University of Michigan</td>\n",
       "      <td>Charles Severance</td>\n",
       "      <td>Introductory</td>\n",
       "      <td>Computer Science</td>\n",
       "      <td>English</td>\n",
       "      <td>English</td>\n",
       "      <td>2–4 hours per week</td>\n",
       "      <td>7 Weeks</td>\n",
       "      <td>FREE-Add a Verified Certificate for $49 USD</td>\n",
       "      <td>This course aims to teach everyone the basics ...</td>\n",
       "      <td>None</td>\n",
       "      <td>https://www.edx.org/course/programming-for-eve...</td>\n",
       "    </tr>\n",
       "    <tr>\n",
       "      <th>2</th>\n",
       "      <td>CS50's Introduction to Computer Science</td>\n",
       "      <td>An introduction to the intellectual enterprise...</td>\n",
       "      <td>2,442,271</td>\n",
       "      <td>Self-paced on your time</td>\n",
       "      <td>Harvard University</td>\n",
       "      <td>David J. Malan-Doug Lloyd-Brian Yu</td>\n",
       "      <td>Introductory</td>\n",
       "      <td>Computer Science</td>\n",
       "      <td>English</td>\n",
       "      <td>English</td>\n",
       "      <td>6–18 hours per week</td>\n",
       "      <td>12 Weeks</td>\n",
       "      <td>FREE-Add a Verified Certificate for $90 USD</td>\n",
       "      <td>This is CS50x , Harvard University's introduct...</td>\n",
       "      <td>None</td>\n",
       "      <td>https://www.edx.org/course/cs50s-introduction-...</td>\n",
       "    </tr>\n",
       "    <tr>\n",
       "      <th>3</th>\n",
       "      <td>The Analytics Edge</td>\n",
       "      <td>Through inspiring examples and stories, discov...</td>\n",
       "      <td>129,555</td>\n",
       "      <td>Instructor-led on a course schedule</td>\n",
       "      <td>Massachusetts Institute of Technology</td>\n",
       "      <td>Dimitris Bertsimas-Allison O'Hair-John Silberh...</td>\n",
       "      <td>Intermediate</td>\n",
       "      <td>Data Analysis &amp; Statistics</td>\n",
       "      <td>English</td>\n",
       "      <td>English</td>\n",
       "      <td>10–15 hours per week</td>\n",
       "      <td>13 Weeks</td>\n",
       "      <td>FREE-Add a Verified Certificate for $199 USD</td>\n",
       "      <td>In the last decade, the amount of data availab...</td>\n",
       "      <td>None</td>\n",
       "      <td>https://www.edx.org/course/the-analytics-edge</td>\n",
       "    </tr>\n",
       "    <tr>\n",
       "      <th>4</th>\n",
       "      <td>Marketing Analytics: Marketing Measurement Str...</td>\n",
       "      <td>This course is part of a MicroMasters® Program</td>\n",
       "      <td>81,140</td>\n",
       "      <td>Self-paced on your time</td>\n",
       "      <td>University of California, Berkeley</td>\n",
       "      <td>Stephan Sorger</td>\n",
       "      <td>Introductory</td>\n",
       "      <td>Computer Science</td>\n",
       "      <td>English</td>\n",
       "      <td>English</td>\n",
       "      <td>5–7 hours per week</td>\n",
       "      <td>4 Weeks</td>\n",
       "      <td>FREE-Add a Verified Certificate for $249 USD</td>\n",
       "      <td>Begin your journey in a new career in marketin...</td>\n",
       "      <td>None</td>\n",
       "      <td>https://www.edx.org/course/marketing-analytics...</td>\n",
       "    </tr>\n",
       "    <tr>\n",
       "      <th>...</th>\n",
       "      <td>...</td>\n",
       "      <td>...</td>\n",
       "      <td>...</td>\n",
       "      <td>...</td>\n",
       "      <td>...</td>\n",
       "      <td>...</td>\n",
       "      <td>...</td>\n",
       "      <td>...</td>\n",
       "      <td>...</td>\n",
       "      <td>...</td>\n",
       "      <td>...</td>\n",
       "      <td>...</td>\n",
       "      <td>...</td>\n",
       "      <td>...</td>\n",
       "      <td>...</td>\n",
       "      <td>...</td>\n",
       "    </tr>\n",
       "    <tr>\n",
       "      <th>7555</th>\n",
       "      <td>StudioX: Creating a Course with edX Studio</td>\n",
       "      <td>Learn the fundamentals of creating courses on ...</td>\n",
       "      <td>20355.0</td>\n",
       "      <td>Self-paced on your time</td>\n",
       "      <td>edX</td>\n",
       "      <td>Nina Huntemann-Ben Piscopo</td>\n",
       "      <td>Introductory</td>\n",
       "      <td>Education &amp; Teacher Training</td>\n",
       "      <td>English</td>\n",
       "      <td>English</td>\n",
       "      <td>4–6 hours per week</td>\n",
       "      <td>3 Weeks</td>\n",
       "      <td>99.0</td>\n",
       "      <td>In this course, we will introduce you to edX S...</td>\n",
       "      <td>None</td>\n",
       "      <td>None</td>\n",
       "    </tr>\n",
       "    <tr>\n",
       "      <th>7556</th>\n",
       "      <td>Introducción a las ondas gravitacionales</td>\n",
       "      <td>En este curso, junto con la Dra. Gabriela Gonz...</td>\n",
       "      <td>8657.0</td>\n",
       "      <td>Self-paced on your time</td>\n",
       "      <td>Universidad Nacional de Córdoba</td>\n",
       "      <td>Gabriela González</td>\n",
       "      <td>Introductory</td>\n",
       "      <td>Science</td>\n",
       "      <td>Español</td>\n",
       "      <td>English, Español</td>\n",
       "      <td>5–7 hours per week</td>\n",
       "      <td>4 Weeks</td>\n",
       "      <td>50.0</td>\n",
       "      <td>En este curso conocerás sobre las ondas gravit...</td>\n",
       "      <td>Introducción: En este curso vamos a hablar de ...</td>\n",
       "      <td>None</td>\n",
       "    </tr>\n",
       "    <tr>\n",
       "      <th>7557</th>\n",
       "      <td>Global China: From the Mongols to the Ming</td>\n",
       "      <td>Explore the impact of the conquest dynasties a...</td>\n",
       "      <td>41902.0</td>\n",
       "      <td>Self-paced on your time</td>\n",
       "      <td>Harvard University</td>\n",
       "      <td>Peter K. Bol-William C. Kirby</td>\n",
       "      <td>Introductory</td>\n",
       "      <td>History</td>\n",
       "      <td>English</td>\n",
       "      <td>English, 中文</td>\n",
       "      <td>1–3 hours per week</td>\n",
       "      <td>15 Weeks</td>\n",
       "      <td>139.0</td>\n",
       "      <td>In the 13th century, by force of arms, the Mon...</td>\n",
       "      <td>None</td>\n",
       "      <td>None</td>\n",
       "    </tr>\n",
       "    <tr>\n",
       "      <th>7558</th>\n",
       "      <td>Computational Neuroscience: Neuronal Dynamics ...</td>\n",
       "      <td>This course explains the mathematical and comp...</td>\n",
       "      <td>11246.0</td>\n",
       "      <td>Self-paced on your time</td>\n",
       "      <td>École polytechnique fédérale de Lausanne</td>\n",
       "      <td>Wulfram Gerstner</td>\n",
       "      <td>Advanced</td>\n",
       "      <td>Biology &amp; Life Sciences</td>\n",
       "      <td>English</td>\n",
       "      <td>English</td>\n",
       "      <td>4–6 hours per week</td>\n",
       "      <td>6 Weeks</td>\n",
       "      <td>139.0</td>\n",
       "      <td>What happens in your brain when you make a dec...</td>\n",
       "      <td>Textbook: Neuronal Dynamics - from single neur...</td>\n",
       "      <td>None</td>\n",
       "    </tr>\n",
       "    <tr>\n",
       "      <th>7559</th>\n",
       "      <td>Cities and the Challenge of Sustainable Develo...</td>\n",
       "      <td>What is a sustainable city? Learn the basics h...</td>\n",
       "      <td>8775.0</td>\n",
       "      <td>Self-paced on your time</td>\n",
       "      <td>SDG Academy</td>\n",
       "      <td>Jeffrey D. Sachs</td>\n",
       "      <td>Introductory</td>\n",
       "      <td>Environmental Studies</td>\n",
       "      <td>English</td>\n",
       "      <td>English</td>\n",
       "      <td>1–2 hours per week</td>\n",
       "      <td>1 Weeks</td>\n",
       "      <td>25.0</td>\n",
       "      <td>According to the United Nations, urbanization ...</td>\n",
       "      <td>Module 1: Introduction to the SDGsProfessor Je...</td>\n",
       "      <td>None</td>\n",
       "    </tr>\n",
       "  </tbody>\n",
       "</table>\n",
       "<p>7560 rows × 16 columns</p>\n",
       "</div>"
      ],
      "text/plain": [
       "                                                  title  \\\n",
       "0                                   How to Learn Online   \n",
       "1     Programming for Everybody (Getting Started wit...   \n",
       "2               CS50's Introduction to Computer Science   \n",
       "3                                    The Analytics Edge   \n",
       "4     Marketing Analytics: Marketing Measurement Str...   \n",
       "...                                                 ...   \n",
       "7555         StudioX: Creating a Course with edX Studio   \n",
       "7556           Introducción a las ondas gravitacionales   \n",
       "7557         Global China: From the Mongols to the Ming   \n",
       "7558  Computational Neuroscience: Neuronal Dynamics ...   \n",
       "7559  Cities and the Challenge of Sustainable Develo...   \n",
       "\n",
       "                                                summary n_enrolled  \\\n",
       "0     Learn essential strategies for successful onli...    124,980   \n",
       "1     This course is a \"no prerequisite\" introductio...    293,864   \n",
       "2     An introduction to the intellectual enterprise...  2,442,271   \n",
       "3     Through inspiring examples and stories, discov...    129,555   \n",
       "4        This course is part of a MicroMasters® Program     81,140   \n",
       "...                                                 ...        ...   \n",
       "7555  Learn the fundamentals of creating courses on ...    20355.0   \n",
       "7556  En este curso, junto con la Dra. Gabriela Gonz...     8657.0   \n",
       "7557  Explore the impact of the conquest dynasties a...    41902.0   \n",
       "7558  This course explains the mathematical and comp...    11246.0   \n",
       "7559  What is a sustainable city? Learn the basics h...     8775.0   \n",
       "\n",
       "                              course_type  \\\n",
       "0                 Self-paced on your time   \n",
       "1                 Self-paced on your time   \n",
       "2                 Self-paced on your time   \n",
       "3     Instructor-led on a course schedule   \n",
       "4                 Self-paced on your time   \n",
       "...                                   ...   \n",
       "7555              Self-paced on your time   \n",
       "7556              Self-paced on your time   \n",
       "7557              Self-paced on your time   \n",
       "7558              Self-paced on your time   \n",
       "7559              Self-paced on your time   \n",
       "\n",
       "                                   institution  \\\n",
       "0                                          edX   \n",
       "1                   The University of Michigan   \n",
       "2                           Harvard University   \n",
       "3        Massachusetts Institute of Technology   \n",
       "4           University of California, Berkeley   \n",
       "...                                        ...   \n",
       "7555                                       edX   \n",
       "7556           Universidad Nacional de Córdoba   \n",
       "7557                        Harvard University   \n",
       "7558  École polytechnique fédérale de Lausanne   \n",
       "7559                               SDG Academy   \n",
       "\n",
       "                                            instructors         Level  \\\n",
       "0               Nina Huntemann-Robyn Belair-Ben Piscopo  Introductory   \n",
       "1                                     Charles Severance  Introductory   \n",
       "2                    David J. Malan-Doug Lloyd-Brian Yu  Introductory   \n",
       "3     Dimitris Bertsimas-Allison O'Hair-John Silberh...  Intermediate   \n",
       "4                                        Stephan Sorger  Introductory   \n",
       "...                                                 ...           ...   \n",
       "7555                         Nina Huntemann-Ben Piscopo  Introductory   \n",
       "7556                                  Gabriela González  Introductory   \n",
       "7557                      Peter K. Bol-William C. Kirby  Introductory   \n",
       "7558                                   Wulfram Gerstner      Advanced   \n",
       "7559                                   Jeffrey D. Sachs  Introductory   \n",
       "\n",
       "                           subject language         subtitles  \\\n",
       "0     Education & Teacher Training  English           English   \n",
       "1                 Computer Science  English           English   \n",
       "2                 Computer Science  English           English   \n",
       "3       Data Analysis & Statistics  English           English   \n",
       "4                 Computer Science  English           English   \n",
       "...                            ...      ...               ...   \n",
       "7555  Education & Teacher Training  English           English   \n",
       "7556                       Science  Español  English, Español   \n",
       "7557                       History  English       English, 中文   \n",
       "7558       Biology & Life Sciences  English           English   \n",
       "7559         Environmental Studies  English           English   \n",
       "\n",
       "             course_effort course_length  \\\n",
       "0       2–3 hours per week       2 Weeks   \n",
       "1       2–4 hours per week       7 Weeks   \n",
       "2      6–18 hours per week      12 Weeks   \n",
       "3     10–15 hours per week      13 Weeks   \n",
       "4       5–7 hours per week       4 Weeks   \n",
       "...                    ...           ...   \n",
       "7555    4–6 hours per week       3 Weeks   \n",
       "7556    5–7 hours per week       4 Weeks   \n",
       "7557    1–3 hours per week      15 Weeks   \n",
       "7558    4–6 hours per week       6 Weeks   \n",
       "7559    1–2 hours per week       1 Weeks   \n",
       "\n",
       "                                             price  \\\n",
       "0      FREE-Add a Verified Certificate for $49 USD   \n",
       "1      FREE-Add a Verified Certificate for $49 USD   \n",
       "2      FREE-Add a Verified Certificate for $90 USD   \n",
       "3     FREE-Add a Verified Certificate for $199 USD   \n",
       "4     FREE-Add a Verified Certificate for $249 USD   \n",
       "...                                            ...   \n",
       "7555                                          99.0   \n",
       "7556                                          50.0   \n",
       "7557                                         139.0   \n",
       "7558                                         139.0   \n",
       "7559                                          25.0   \n",
       "\n",
       "                                     course_description  \\\n",
       "0     Designed for those who are new to elearning, t...   \n",
       "1     This course aims to teach everyone the basics ...   \n",
       "2     This is CS50x , Harvard University's introduct...   \n",
       "3     In the last decade, the amount of data availab...   \n",
       "4     Begin your journey in a new career in marketin...   \n",
       "...                                                 ...   \n",
       "7555  In this course, we will introduce you to edX S...   \n",
       "7556  En este curso conocerás sobre las ondas gravit...   \n",
       "7557  In the 13th century, by force of arms, the Mon...   \n",
       "7558  What happens in your brain when you make a dec...   \n",
       "7559  According to the United Nations, urbanization ...   \n",
       "\n",
       "                                        course_syllabus  \\\n",
       "0     Welcome - We start with opportunities to meet ...   \n",
       "1                                                  None   \n",
       "2                                                  None   \n",
       "3                                                  None   \n",
       "4                                                  None   \n",
       "...                                                 ...   \n",
       "7555                                               None   \n",
       "7556  Introducción: En este curso vamos a hablar de ...   \n",
       "7557                                               None   \n",
       "7558  Textbook: Neuronal Dynamics - from single neur...   \n",
       "7559  Module 1: Introduction to the SDGsProfessor Je...   \n",
       "\n",
       "                                             course_url  \n",
       "0        https://www.edx.org/course/how-to-learn-online  \n",
       "1     https://www.edx.org/course/programming-for-eve...  \n",
       "2     https://www.edx.org/course/cs50s-introduction-...  \n",
       "3         https://www.edx.org/course/the-analytics-edge  \n",
       "4     https://www.edx.org/course/marketing-analytics...  \n",
       "...                                                 ...  \n",
       "7555                                               None  \n",
       "7556                                               None  \n",
       "7557                                               None  \n",
       "7558                                               None  \n",
       "7559                                               None  \n",
       "\n",
       "[7560 rows x 16 columns]"
      ]
     },
     "execution_count": 62,
     "metadata": {},
     "output_type": "execute_result"
    }
   ],
   "source": [
    "edx_query"
   ]
  },
  {
   "cell_type": "code",
   "execution_count": 117,
   "id": "28599a34",
   "metadata": {},
   "outputs": [
    {
     "data": {
      "text/html": [
       "<div>\n",
       "<style scoped>\n",
       "    .dataframe tbody tr th:only-of-type {\n",
       "        vertical-align: middle;\n",
       "    }\n",
       "\n",
       "    .dataframe tbody tr th {\n",
       "        vertical-align: top;\n",
       "    }\n",
       "\n",
       "    .dataframe thead th {\n",
       "        text-align: right;\n",
       "    }\n",
       "</style>\n",
       "<table border=\"1\" class=\"dataframe\">\n",
       "  <thead>\n",
       "    <tr style=\"text-align: right;\">\n",
       "      <th></th>\n",
       "      <th>subscribers</th>\n",
       "      <th>subject</th>\n",
       "    </tr>\n",
       "  </thead>\n",
       "  <tbody>\n",
       "    <tr>\n",
       "      <th>0</th>\n",
       "      <td>24.955144</td>\n",
       "      <td>Computer Science</td>\n",
       "    </tr>\n",
       "    <tr>\n",
       "      <th>1</th>\n",
       "      <td>14.195180</td>\n",
       "      <td>Business &amp; Management</td>\n",
       "    </tr>\n",
       "    <tr>\n",
       "      <th>2</th>\n",
       "      <td>9.297648</td>\n",
       "      <td>Communication</td>\n",
       "    </tr>\n",
       "    <tr>\n",
       "      <th>3</th>\n",
       "      <td>8.554234</td>\n",
       "      <td>Data Analysis &amp; Statistics</td>\n",
       "    </tr>\n",
       "    <tr>\n",
       "      <th>4</th>\n",
       "      <td>7.029136</td>\n",
       "      <td>Humanities</td>\n",
       "    </tr>\n",
       "    <tr>\n",
       "      <th>5</th>\n",
       "      <td>3.699672</td>\n",
       "      <td>Social Sciences</td>\n",
       "    </tr>\n",
       "    <tr>\n",
       "      <th>6</th>\n",
       "      <td>3.538152</td>\n",
       "      <td>Biology &amp; Life Sciences</td>\n",
       "    </tr>\n",
       "    <tr>\n",
       "      <th>7</th>\n",
       "      <td>2.801928</td>\n",
       "      <td>Engineering</td>\n",
       "    </tr>\n",
       "    <tr>\n",
       "      <th>8</th>\n",
       "      <td>2.132814</td>\n",
       "      <td>Language</td>\n",
       "    </tr>\n",
       "    <tr>\n",
       "      <th>9</th>\n",
       "      <td>1.985398</td>\n",
       "      <td>Medicine</td>\n",
       "    </tr>\n",
       "  </tbody>\n",
       "</table>\n",
       "</div>"
      ],
      "text/plain": [
       "   subscribers                     subject\n",
       "0    24.955144            Computer Science\n",
       "1    14.195180       Business & Management\n",
       "2     9.297648               Communication\n",
       "3     8.554234  Data Analysis & Statistics\n",
       "4     7.029136                  Humanities\n",
       "5     3.699672             Social Sciences\n",
       "6     3.538152     Biology & Life Sciences\n",
       "7     2.801928                 Engineering\n",
       "8     2.132814                    Language\n",
       "9     1.985398                    Medicine"
      ]
     },
     "execution_count": 117,
     "metadata": {},
     "output_type": "execute_result"
    }
   ],
   "source": [
    "edx_subjects_by_subs = pd.read_sql(''' SELECT SUM(n_enrolled)/1000000 AS subscribers, subject\n",
    "                             FROM edx_sql\n",
    "                             GROUP BY subject\n",
    "                             ORDER BY subscribers DESC\n",
    "                             LIMIT 10\n",
    "                             ''', edx_conn)\n",
    "edx_subjects_by_subs"
   ]
  },
  {
   "cell_type": "code",
   "execution_count": 118,
   "id": "d95a41a6",
   "metadata": {},
   "outputs": [],
   "source": [
    "edx_subjects_by_subs_csv = edx_subjects_by_subs.to_csv('edx_subjects_by_subs.csv')"
   ]
  },
  {
   "cell_type": "code",
   "execution_count": 63,
   "id": "332b53e3",
   "metadata": {},
   "outputs": [
    {
     "data": {
      "text/html": [
       "<div>\n",
       "<style scoped>\n",
       "    .dataframe tbody tr th:only-of-type {\n",
       "        vertical-align: middle;\n",
       "    }\n",
       "\n",
       "    .dataframe tbody tr th {\n",
       "        vertical-align: top;\n",
       "    }\n",
       "\n",
       "    .dataframe thead th {\n",
       "        text-align: right;\n",
       "    }\n",
       "</style>\n",
       "<table border=\"1\" class=\"dataframe\">\n",
       "  <thead>\n",
       "    <tr style=\"text-align: right;\">\n",
       "      <th></th>\n",
       "      <th>course_effort</th>\n",
       "      <th>course_effort_count</th>\n",
       "      <th>course_effort_pct</th>\n",
       "    </tr>\n",
       "  </thead>\n",
       "  <tbody>\n",
       "    <tr>\n",
       "      <th>0</th>\n",
       "      <td>2–4 hours per week</td>\n",
       "      <td>844</td>\n",
       "      <td>11</td>\n",
       "    </tr>\n",
       "    <tr>\n",
       "      <th>1</th>\n",
       "      <td>2–3 hours per week</td>\n",
       "      <td>812</td>\n",
       "      <td>10</td>\n",
       "    </tr>\n",
       "    <tr>\n",
       "      <th>2</th>\n",
       "      <td>3–5 hours per week</td>\n",
       "      <td>802</td>\n",
       "      <td>10</td>\n",
       "    </tr>\n",
       "    <tr>\n",
       "      <th>3</th>\n",
       "      <td>3–4 hours per week</td>\n",
       "      <td>716</td>\n",
       "      <td>9</td>\n",
       "    </tr>\n",
       "    <tr>\n",
       "      <th>4</th>\n",
       "      <td>4–6 hours per week</td>\n",
       "      <td>608</td>\n",
       "      <td>8</td>\n",
       "    </tr>\n",
       "    <tr>\n",
       "      <th>5</th>\n",
       "      <td>8–10 hours per week</td>\n",
       "      <td>450</td>\n",
       "      <td>5</td>\n",
       "    </tr>\n",
       "    <tr>\n",
       "      <th>6</th>\n",
       "      <td>1–2 hours per week</td>\n",
       "      <td>428</td>\n",
       "      <td>5</td>\n",
       "    </tr>\n",
       "    <tr>\n",
       "      <th>7</th>\n",
       "      <td>4–5 hours per week</td>\n",
       "      <td>424</td>\n",
       "      <td>5</td>\n",
       "    </tr>\n",
       "    <tr>\n",
       "      <th>8</th>\n",
       "      <td>6–8 hours per week</td>\n",
       "      <td>400</td>\n",
       "      <td>5</td>\n",
       "    </tr>\n",
       "    <tr>\n",
       "      <th>9</th>\n",
       "      <td>5–7 hours per week</td>\n",
       "      <td>212</td>\n",
       "      <td>2</td>\n",
       "    </tr>\n",
       "  </tbody>\n",
       "</table>\n",
       "</div>"
      ],
      "text/plain": [
       "         course_effort  course_effort_count  course_effort_pct\n",
       "0   2–4 hours per week                  844                 11\n",
       "1   2–3 hours per week                  812                 10\n",
       "2   3–5 hours per week                  802                 10\n",
       "3   3–4 hours per week                  716                  9\n",
       "4   4–6 hours per week                  608                  8\n",
       "5  8–10 hours per week                  450                  5\n",
       "6   1–2 hours per week                  428                  5\n",
       "7   4–5 hours per week                  424                  5\n",
       "8   6–8 hours per week                  400                  5\n",
       "9   5–7 hours per week                  212                  2"
      ]
     },
     "execution_count": 63,
     "metadata": {},
     "output_type": "execute_result"
    }
   ],
   "source": [
    "query_course_effort_edx = pd.read_sql(''' SELECT course_effort, COUNT(course_effort) AS course_effort_count,\n",
    "                             100 * COUNT(course_effort) / (SELECT COUNT(*) FROM edx_sql) AS course_effort_pct\n",
    "                             FROM edx_sql\n",
    "                             GROUP BY course_effort\n",
    "                             ORDER BY course_effort_count DESC\n",
    "                             LIMIT 10''', edx_conn)\n",
    "query_course_effort_edx"
   ]
  },
  {
   "cell_type": "code",
   "execution_count": 64,
   "id": "653f5f3e",
   "metadata": {},
   "outputs": [
    {
     "data": {
      "text/html": [
       "<div>\n",
       "<style scoped>\n",
       "    .dataframe tbody tr th:only-of-type {\n",
       "        vertical-align: middle;\n",
       "    }\n",
       "\n",
       "    .dataframe tbody tr th {\n",
       "        vertical-align: top;\n",
       "    }\n",
       "\n",
       "    .dataframe thead th {\n",
       "        text-align: right;\n",
       "    }\n",
       "</style>\n",
       "<table border=\"1\" class=\"dataframe\">\n",
       "  <thead>\n",
       "    <tr style=\"text-align: right;\">\n",
       "      <th></th>\n",
       "      <th>Level</th>\n",
       "      <th>level_count</th>\n",
       "      <th>n_enrolled</th>\n",
       "    </tr>\n",
       "  </thead>\n",
       "  <tbody>\n",
       "    <tr>\n",
       "      <th>0</th>\n",
       "      <td>Intermediate</td>\n",
       "      <td>2076</td>\n",
       "      <td>129,555</td>\n",
       "    </tr>\n",
       "    <tr>\n",
       "      <th>1</th>\n",
       "      <td>Introductory</td>\n",
       "      <td>4810</td>\n",
       "      <td>124,980</td>\n",
       "    </tr>\n",
       "    <tr>\n",
       "      <th>2</th>\n",
       "      <td>Advanced</td>\n",
       "      <td>674</td>\n",
       "      <td>103,640</td>\n",
       "    </tr>\n",
       "  </tbody>\n",
       "</table>\n",
       "</div>"
      ],
      "text/plain": [
       "          Level  level_count n_enrolled\n",
       "0  Intermediate         2076    129,555\n",
       "1  Introductory         4810    124,980\n",
       "2      Advanced          674    103,640"
      ]
     },
     "execution_count": 64,
     "metadata": {},
     "output_type": "execute_result"
    }
   ],
   "source": [
    "query_level_edx = pd.read_sql(''' SELECT Level, COUNT(Level) AS level_count, n_enrolled\n",
    "                        FROM edx_sql\n",
    "                        GROUP BY Level\n",
    "                        ORDER BY n_enrolled DESC ''', edx_conn)\n",
    "query_level_edx"
   ]
  },
  {
   "cell_type": "code",
   "execution_count": 65,
   "id": "54a1f174",
   "metadata": {},
   "outputs": [],
   "source": [
    "query_level_edx['n_enrolled'] = query_level_edx['n_enrolled'].str.replace(',', '').astype(float)"
   ]
  },
  {
   "cell_type": "code",
   "execution_count": 66,
   "id": "7ded1a9f",
   "metadata": {},
   "outputs": [
    {
     "data": {
      "text/html": [
       "<div>\n",
       "<style scoped>\n",
       "    .dataframe tbody tr th:only-of-type {\n",
       "        vertical-align: middle;\n",
       "    }\n",
       "\n",
       "    .dataframe tbody tr th {\n",
       "        vertical-align: top;\n",
       "    }\n",
       "\n",
       "    .dataframe thead th {\n",
       "        text-align: right;\n",
       "    }\n",
       "</style>\n",
       "<table border=\"1\" class=\"dataframe\">\n",
       "  <thead>\n",
       "    <tr style=\"text-align: right;\">\n",
       "      <th></th>\n",
       "      <th>Level</th>\n",
       "      <th>level_count</th>\n",
       "      <th>n_enrolled</th>\n",
       "    </tr>\n",
       "  </thead>\n",
       "  <tbody>\n",
       "    <tr>\n",
       "      <th>0</th>\n",
       "      <td>Intermediate</td>\n",
       "      <td>2076</td>\n",
       "      <td>129555.0</td>\n",
       "    </tr>\n",
       "    <tr>\n",
       "      <th>1</th>\n",
       "      <td>Introductory</td>\n",
       "      <td>4810</td>\n",
       "      <td>124980.0</td>\n",
       "    </tr>\n",
       "    <tr>\n",
       "      <th>2</th>\n",
       "      <td>Advanced</td>\n",
       "      <td>674</td>\n",
       "      <td>103640.0</td>\n",
       "    </tr>\n",
       "  </tbody>\n",
       "</table>\n",
       "</div>"
      ],
      "text/plain": [
       "          Level  level_count  n_enrolled\n",
       "0  Intermediate         2076    129555.0\n",
       "1  Introductory         4810    124980.0\n",
       "2      Advanced          674    103640.0"
      ]
     },
     "execution_count": 66,
     "metadata": {},
     "output_type": "execute_result"
    }
   ],
   "source": [
    "query_level_edx"
   ]
  },
  {
   "cell_type": "code",
   "execution_count": 67,
   "id": "19bebb58",
   "metadata": {},
   "outputs": [
    {
     "data": {
      "image/png": "[encoded data removed]",
      "text/plain": [
       "<Figure size 864x432 with 1 Axes>"
      ]
     },
     "metadata": {},
     "output_type": "display_data"
    }
   ],
   "source": [
    "sns.set_style('whitegrid')\n",
    "\n",
    "fig, ax = plt.subplots(figsize=(12, 6))\n",
    "\n",
    "sns.barplot(data=query_level_edx, x='Level', y='n_enrolled', color='gold', ax=ax)\n",
    "\n",
    "ax.set_title('Number of Enrollments by Course Level in edX')\n",
    "ax.set_xlabel('Course Level')\n",
    "ax.set_ylabel('Number of Enrollments')\n",
    "plt.show()"
   ]
  },
  {
   "cell_type": "code",
   "execution_count": 90,
   "id": "7d552a33",
   "metadata": {},
   "outputs": [],
   "source": [
    "query_level_edx_csv = query_level_edx.to_csv('query_level_edx.csv')"
   ]
  },
  {
   "cell_type": "code",
   "execution_count": 68,
   "id": "23bb79d0",
   "metadata": {},
   "outputs": [
    {
     "data": {
      "text/html": [
       "<div>\n",
       "<style scoped>\n",
       "    .dataframe tbody tr th:only-of-type {\n",
       "        vertical-align: middle;\n",
       "    }\n",
       "\n",
       "    .dataframe tbody tr th {\n",
       "        vertical-align: top;\n",
       "    }\n",
       "\n",
       "    .dataframe thead th {\n",
       "        text-align: right;\n",
       "    }\n",
       "</style>\n",
       "<table border=\"1\" class=\"dataframe\">\n",
       "  <thead>\n",
       "    <tr style=\"text-align: right;\">\n",
       "      <th></th>\n",
       "      <th>institution</th>\n",
       "      <th>course_count</th>\n",
       "    </tr>\n",
       "  </thead>\n",
       "  <tbody>\n",
       "    <tr>\n",
       "      <th>0</th>\n",
       "      <td>Harvard University</td>\n",
       "      <td>832</td>\n",
       "    </tr>\n",
       "    <tr>\n",
       "      <th>1</th>\n",
       "      <td>Universitat Politècnica de Valencia</td>\n",
       "      <td>372</td>\n",
       "    </tr>\n",
       "    <tr>\n",
       "      <th>2</th>\n",
       "      <td>Massachusetts Institute of Technology</td>\n",
       "      <td>320</td>\n",
       "    </tr>\n",
       "    <tr>\n",
       "      <th>3</th>\n",
       "      <td>Delft University of Technology</td>\n",
       "      <td>236</td>\n",
       "    </tr>\n",
       "    <tr>\n",
       "      <th>4</th>\n",
       "      <td>Inter-American Development Bank</td>\n",
       "      <td>228</td>\n",
       "    </tr>\n",
       "    <tr>\n",
       "      <th>5</th>\n",
       "      <td>IBM</td>\n",
       "      <td>224</td>\n",
       "    </tr>\n",
       "    <tr>\n",
       "      <th>6</th>\n",
       "      <td>The University of Queensland</td>\n",
       "      <td>204</td>\n",
       "    </tr>\n",
       "    <tr>\n",
       "      <th>7</th>\n",
       "      <td>The University of Michigan</td>\n",
       "      <td>172</td>\n",
       "    </tr>\n",
       "    <tr>\n",
       "      <th>8</th>\n",
       "      <td>University of California, Berkeley</td>\n",
       "      <td>160</td>\n",
       "    </tr>\n",
       "    <tr>\n",
       "      <th>9</th>\n",
       "      <td>Columbia University</td>\n",
       "      <td>160</td>\n",
       "    </tr>\n",
       "    <tr>\n",
       "      <th>10</th>\n",
       "      <td>Tecnológico de Monterrey</td>\n",
       "      <td>158</td>\n",
       "    </tr>\n",
       "    <tr>\n",
       "      <th>11</th>\n",
       "      <td>Wageningen University &amp; Research</td>\n",
       "      <td>138</td>\n",
       "    </tr>\n",
       "    <tr>\n",
       "      <th>12</th>\n",
       "      <td>Stanford University</td>\n",
       "      <td>138</td>\n",
       "    </tr>\n",
       "    <tr>\n",
       "      <th>13</th>\n",
       "      <td>Universidad Autónoma de Madrid</td>\n",
       "      <td>126</td>\n",
       "    </tr>\n",
       "    <tr>\n",
       "      <th>14</th>\n",
       "      <td>SDG Academy</td>\n",
       "      <td>126</td>\n",
       "    </tr>\n",
       "    <tr>\n",
       "      <th>15</th>\n",
       "      <td>University of Adelaide</td>\n",
       "      <td>124</td>\n",
       "    </tr>\n",
       "    <tr>\n",
       "      <th>16</th>\n",
       "      <td>Curtin University</td>\n",
       "      <td>120</td>\n",
       "    </tr>\n",
       "    <tr>\n",
       "      <th>17</th>\n",
       "      <td>Universidades Anáhuac</td>\n",
       "      <td>118</td>\n",
       "    </tr>\n",
       "    <tr>\n",
       "      <th>18</th>\n",
       "      <td>The University of Maryland, College Park-Unive...</td>\n",
       "      <td>114</td>\n",
       "    </tr>\n",
       "    <tr>\n",
       "      <th>19</th>\n",
       "      <td>Universidad Galileo</td>\n",
       "      <td>106</td>\n",
       "    </tr>\n",
       "  </tbody>\n",
       "</table>\n",
       "</div>"
      ],
      "text/plain": [
       "                                          institution  course_count\n",
       "0                                  Harvard University           832\n",
       "1                 Universitat Politècnica de Valencia           372\n",
       "2               Massachusetts Institute of Technology           320\n",
       "3                      Delft University of Technology           236\n",
       "4                     Inter-American Development Bank           228\n",
       "5                                                 IBM           224\n",
       "6                        The University of Queensland           204\n",
       "7                          The University of Michigan           172\n",
       "8                  University of California, Berkeley           160\n",
       "9                                 Columbia University           160\n",
       "10                           Tecnológico de Monterrey           158\n",
       "11                   Wageningen University & Research           138\n",
       "12                                Stanford University           138\n",
       "13                     Universidad Autónoma de Madrid           126\n",
       "14                                        SDG Academy           126\n",
       "15                             University of Adelaide           124\n",
       "16                                  Curtin University           120\n",
       "17                              Universidades Anáhuac           118\n",
       "18  The University of Maryland, College Park-Unive...           114\n",
       "19                                Universidad Galileo           106"
      ]
     },
     "execution_count": 68,
     "metadata": {},
     "output_type": "execute_result"
    }
   ],
   "source": [
    "edx_institution = pd.read_sql('''SELECT institution, COUNT(title) AS course_count\n",
    "                                FROM edx_sql\n",
    "                                GROUP BY institution\n",
    "                                ORDER BY course_count DESC\n",
    "                                LIMIT 20''', edx_conn)\n",
    "\n",
    "edx_institution"
   ]
  },
  {
   "cell_type": "code",
   "execution_count": 69,
   "id": "3a1d953f",
   "metadata": {},
   "outputs": [
    {
     "data": {
      "text/plain": [
       "Text(0.5, 1.0, 'Number of Courses by Institution')"
      ]
     },
     "execution_count": 69,
     "metadata": {},
     "output_type": "execute_result"
    },
    {
     "data": {
      "image/png": "[encoded data removed]",
      "text/plain": [
       "<Figure size 1152x864 with 1 Axes>"
      ]
     },
     "metadata": {},
     "output_type": "display_data"
    }
   ],
   "source": [
    "plt.figure(figsize=(16, 12))\n",
    "plt.bar(x='institution', height='course_count', data=edx_institution, color = 'gold')\n",
    "plt.xticks(rotation=90)\n",
    "plt.xlabel('Institution')\n",
    "plt.ylabel('Number of Courses')\n",
    "plt.title('Number of Courses by Institution')"
   ]
  },
  {
   "cell_type": "code",
   "execution_count": 91,
   "id": "02b7fe6c",
   "metadata": {},
   "outputs": [],
   "source": [
    "edx_institution_csv = edx_institution.to_csv('edx_institution.csv') "
   ]
  },
  {
   "cell_type": "code",
   "execution_count": 70,
   "id": "0b98d216",
   "metadata": {
    "scrolled": true
   },
   "outputs": [
    {
     "data": {
      "text/html": [
       "<div>\n",
       "<style scoped>\n",
       "    .dataframe tbody tr th:only-of-type {\n",
       "        vertical-align: middle;\n",
       "    }\n",
       "\n",
       "    .dataframe tbody tr th {\n",
       "        vertical-align: top;\n",
       "    }\n",
       "\n",
       "    .dataframe thead th {\n",
       "        text-align: right;\n",
       "    }\n",
       "</style>\n",
       "<table border=\"1\" class=\"dataframe\">\n",
       "  <thead>\n",
       "    <tr style=\"text-align: right;\">\n",
       "      <th></th>\n",
       "      <th>subject</th>\n",
       "      <th>avg_price</th>\n",
       "    </tr>\n",
       "  </thead>\n",
       "  <tbody>\n",
       "    <tr>\n",
       "      <th>0</th>\n",
       "      <td>Business &amp; Management</td>\n",
       "      <td>30.951411</td>\n",
       "    </tr>\n",
       "    <tr>\n",
       "      <th>1</th>\n",
       "      <td>Literature</td>\n",
       "      <td>30.375000</td>\n",
       "    </tr>\n",
       "    <tr>\n",
       "      <th>2</th>\n",
       "      <td>Computer Science</td>\n",
       "      <td>29.272068</td>\n",
       "    </tr>\n",
       "    <tr>\n",
       "      <th>3</th>\n",
       "      <td>Law</td>\n",
       "      <td>27.461538</td>\n",
       "    </tr>\n",
       "    <tr>\n",
       "      <th>4</th>\n",
       "      <td>Engineering</td>\n",
       "      <td>26.829596</td>\n",
       "    </tr>\n",
       "    <tr>\n",
       "      <th>5</th>\n",
       "      <td>Electronics</td>\n",
       "      <td>25.928571</td>\n",
       "    </tr>\n",
       "    <tr>\n",
       "      <th>6</th>\n",
       "      <td>Energy &amp; Earth Sciences</td>\n",
       "      <td>25.896552</td>\n",
       "    </tr>\n",
       "    <tr>\n",
       "      <th>7</th>\n",
       "      <td>Design</td>\n",
       "      <td>24.687500</td>\n",
       "    </tr>\n",
       "  </tbody>\n",
       "</table>\n",
       "</div>"
      ],
      "text/plain": [
       "                   subject  avg_price\n",
       "0    Business & Management  30.951411\n",
       "1               Literature  30.375000\n",
       "2         Computer Science  29.272068\n",
       "3                      Law  27.461538\n",
       "4              Engineering  26.829596\n",
       "5              Electronics  25.928571\n",
       "6  Energy & Earth Sciences  25.896552\n",
       "7                   Design  24.687500"
      ]
     },
     "execution_count": 70,
     "metadata": {},
     "output_type": "execute_result"
    }
   ],
   "source": [
    "edx_avg_price_by_subject = pd.read_sql('''SELECT subject, AVG(price) AS avg_price\n",
    "                                        FROM edx_sql\n",
    "                                        GROUP BY subject\n",
    "                                        ORDER BY avg_price DESC\n",
    "                                        LIMIT 8''', edx_conn)\n",
    "\n",
    "edx_avg_price_by_subject"
   ]
  },
  {
   "cell_type": "code",
   "execution_count": 126,
   "id": "ce0c1fc9",
   "metadata": {},
   "outputs": [],
   "source": [
    "edx_avg_price_by_subject_csv = edx_avg_price_by_subject.to_csv('edx_avg_price_by_subject.csv')"
   ]
  },
  {
   "cell_type": "code",
   "execution_count": 71,
   "id": "08f44929",
   "metadata": {},
   "outputs": [
    {
     "data": {
      "text/plain": [
       "Text(0.5, 1.0, 'Average Price by Subject')"
      ]
     },
     "execution_count": 71,
     "metadata": {},
     "output_type": "execute_result"
    },
    {
     "data": {
      "image/png": "[encoded data removed]",
      "text/plain": [
       "<Figure size 864x432 with 1 Axes>"
      ]
     },
     "metadata": {},
     "output_type": "display_data"
    }
   ],
   "source": [
    "plt.figure(figsize=(12, 6))\n",
    "plt.bar(x='subject', height='avg_price', data=edx_avg_price_by_subject, color='gold')\n",
    "plt.xlabel('Subject')\n",
    "plt.ylabel('Average Price')\n",
    "plt.title('Average Price by Subject')"
   ]
  },
  {
   "cell_type": "code",
   "execution_count": 92,
   "id": "6b48f671",
   "metadata": {},
   "outputs": [],
   "source": [
    "edx_avg_price_by_subject_csv = edx_avg_price_by_subject.to_csv('edx_avg_price_by_subject.csv')"
   ]
  },
  {
   "cell_type": "code",
   "execution_count": 72,
   "id": "c186a068",
   "metadata": {},
   "outputs": [
    {
     "data": {
      "text/html": [
       "<div>\n",
       "<style scoped>\n",
       "    .dataframe tbody tr th:only-of-type {\n",
       "        vertical-align: middle;\n",
       "    }\n",
       "\n",
       "    .dataframe tbody tr th {\n",
       "        vertical-align: top;\n",
       "    }\n",
       "\n",
       "    .dataframe thead th {\n",
       "        text-align: right;\n",
       "    }\n",
       "</style>\n",
       "<table border=\"1\" class=\"dataframe\">\n",
       "  <thead>\n",
       "    <tr style=\"text-align: right;\">\n",
       "      <th></th>\n",
       "      <th>Level</th>\n",
       "      <th>subject</th>\n",
       "      <th>course_count</th>\n",
       "    </tr>\n",
       "  </thead>\n",
       "  <tbody>\n",
       "    <tr>\n",
       "      <th>0</th>\n",
       "      <td>Introductory</td>\n",
       "      <td>Computer Science</td>\n",
       "      <td>780</td>\n",
       "    </tr>\n",
       "    <tr>\n",
       "      <th>1</th>\n",
       "      <td>Introductory</td>\n",
       "      <td>Business &amp; Management</td>\n",
       "      <td>760</td>\n",
       "    </tr>\n",
       "    <tr>\n",
       "      <th>2</th>\n",
       "      <td>Introductory</td>\n",
       "      <td>Humanities</td>\n",
       "      <td>468</td>\n",
       "    </tr>\n",
       "    <tr>\n",
       "      <th>3</th>\n",
       "      <td>Intermediate</td>\n",
       "      <td>Business &amp; Management</td>\n",
       "      <td>430</td>\n",
       "    </tr>\n",
       "    <tr>\n",
       "      <th>4</th>\n",
       "      <td>Intermediate</td>\n",
       "      <td>Computer Science</td>\n",
       "      <td>402</td>\n",
       "    </tr>\n",
       "    <tr>\n",
       "      <th>5</th>\n",
       "      <td>Introductory</td>\n",
       "      <td>Data Analysis &amp; Statistics</td>\n",
       "      <td>288</td>\n",
       "    </tr>\n",
       "    <tr>\n",
       "      <th>6</th>\n",
       "      <td>Introductory</td>\n",
       "      <td>Social Sciences</td>\n",
       "      <td>282</td>\n",
       "    </tr>\n",
       "    <tr>\n",
       "      <th>7</th>\n",
       "      <td>Introductory</td>\n",
       "      <td>Communication</td>\n",
       "      <td>240</td>\n",
       "    </tr>\n",
       "    <tr>\n",
       "      <th>8</th>\n",
       "      <td>Introductory</td>\n",
       "      <td>Language</td>\n",
       "      <td>186</td>\n",
       "    </tr>\n",
       "    <tr>\n",
       "      <th>9</th>\n",
       "      <td>Introductory</td>\n",
       "      <td>Biology &amp; Life Sciences</td>\n",
       "      <td>184</td>\n",
       "    </tr>\n",
       "  </tbody>\n",
       "</table>\n",
       "</div>"
      ],
      "text/plain": [
       "          Level                     subject  course_count\n",
       "0  Introductory            Computer Science           780\n",
       "1  Introductory       Business & Management           760\n",
       "2  Introductory                  Humanities           468\n",
       "3  Intermediate       Business & Management           430\n",
       "4  Intermediate            Computer Science           402\n",
       "5  Introductory  Data Analysis & Statistics           288\n",
       "6  Introductory             Social Sciences           282\n",
       "7  Introductory               Communication           240\n",
       "8  Introductory                    Language           186\n",
       "9  Introductory     Biology & Life Sciences           184"
      ]
     },
     "execution_count": 72,
     "metadata": {},
     "output_type": "execute_result"
    }
   ],
   "source": [
    "edx_course_count_by_level_and_subject = pd.read_sql('''SELECT level, subject, COUNT(title) AS course_count\n",
    "                                                    FROM edx_sql\n",
    "                                                    GROUP BY level, subject\n",
    "                                                    ORDER BY course_count DESC\n",
    "                                                    LIMIT 10''', edx_conn)\n",
    "\n",
    "edx_course_count_by_level_and_subject"
   ]
  },
  {
   "cell_type": "code",
   "execution_count": 73,
   "id": "fdf7e400",
   "metadata": {},
   "outputs": [
    {
     "data": {
      "text/plain": [
       "Text(0.5, 1.0, 'Number of Courses by Level and Subject')"
      ]
     },
     "execution_count": 73,
     "metadata": {},
     "output_type": "execute_result"
    },
    {
     "data": {
      "image/png": "[encoded data removed]",
      "text/plain": [
       "<Figure size 864x432 with 1 Axes>"
      ]
     },
     "metadata": {},
     "output_type": "display_data"
    }
   ],
   "source": [
    "plt.figure(figsize=(12, 6))\n",
    "custom_palette = {'Introductory': 'gold', 'Intermediate': 'grey'}\n",
    "sns.barplot(x='subject', y='course_count', hue='Level', data=edx_course_count_by_level_and_subject, palette=custom_palette)\n",
    "plt.xlabel('Subject')\n",
    "plt.ylabel('Number of Courses')\n",
    "plt.title('Number of Courses by Level and Subject')"
   ]
  },
  {
   "cell_type": "code",
   "execution_count": 93,
   "id": "45bf7451",
   "metadata": {},
   "outputs": [],
   "source": [
    "edx_course_count_by_level_and_subject_csv = edx_course_count_by_level_and_subject.to_csv('edx_course_count_by_level_and_subject.csv')"
   ]
  },
  {
   "cell_type": "code",
   "execution_count": 98,
   "id": "dfa6b7d8",
   "metadata": {},
   "outputs": [
    {
     "data": {
      "text/html": [
       "<div>\n",
       "<style scoped>\n",
       "    .dataframe tbody tr th:only-of-type {\n",
       "        vertical-align: middle;\n",
       "    }\n",
       "\n",
       "    .dataframe tbody tr th {\n",
       "        vertical-align: top;\n",
       "    }\n",
       "\n",
       "    .dataframe thead th {\n",
       "        text-align: right;\n",
       "    }\n",
       "</style>\n",
       "<table border=\"1\" class=\"dataframe\">\n",
       "  <thead>\n",
       "    <tr style=\"text-align: right;\">\n",
       "      <th></th>\n",
       "      <th>Level</th>\n",
       "      <th>subject</th>\n",
       "      <th>course_count</th>\n",
       "    </tr>\n",
       "  </thead>\n",
       "  <tbody>\n",
       "    <tr>\n",
       "      <th>0</th>\n",
       "      <td>Advanced</td>\n",
       "      <td>Biology &amp; Life Sciences</td>\n",
       "      <td>32</td>\n",
       "    </tr>\n",
       "    <tr>\n",
       "      <th>1</th>\n",
       "      <td>Advanced</td>\n",
       "      <td>Business &amp; Management</td>\n",
       "      <td>86</td>\n",
       "    </tr>\n",
       "    <tr>\n",
       "      <th>2</th>\n",
       "      <td>Advanced</td>\n",
       "      <td>Communication</td>\n",
       "      <td>8</td>\n",
       "    </tr>\n",
       "    <tr>\n",
       "      <th>3</th>\n",
       "      <td>Advanced</td>\n",
       "      <td>Computer Science</td>\n",
       "      <td>114</td>\n",
       "    </tr>\n",
       "    <tr>\n",
       "      <th>4</th>\n",
       "      <td>Advanced</td>\n",
       "      <td>Data Analysis &amp; Statistics</td>\n",
       "      <td>102</td>\n",
       "    </tr>\n",
       "    <tr>\n",
       "      <th>...</th>\n",
       "      <td>...</td>\n",
       "      <td>...</td>\n",
       "      <td>...</td>\n",
       "    </tr>\n",
       "    <tr>\n",
       "      <th>65</th>\n",
       "      <td>Introductory</td>\n",
       "      <td>Philanthropy</td>\n",
       "      <td>6</td>\n",
       "    </tr>\n",
       "    <tr>\n",
       "      <th>66</th>\n",
       "      <td>Introductory</td>\n",
       "      <td>Philosophy &amp; Ethics</td>\n",
       "      <td>48</td>\n",
       "    </tr>\n",
       "    <tr>\n",
       "      <th>67</th>\n",
       "      <td>Introductory</td>\n",
       "      <td>Physics</td>\n",
       "      <td>48</td>\n",
       "    </tr>\n",
       "    <tr>\n",
       "      <th>68</th>\n",
       "      <td>Introductory</td>\n",
       "      <td>Science</td>\n",
       "      <td>64</td>\n",
       "    </tr>\n",
       "    <tr>\n",
       "      <th>69</th>\n",
       "      <td>Introductory</td>\n",
       "      <td>Social Sciences</td>\n",
       "      <td>282</td>\n",
       "    </tr>\n",
       "  </tbody>\n",
       "</table>\n",
       "<p>70 rows × 3 columns</p>\n",
       "</div>"
      ],
      "text/plain": [
       "           Level                     subject  course_count\n",
       "0       Advanced     Biology & Life Sciences            32\n",
       "1       Advanced       Business & Management            86\n",
       "2       Advanced               Communication             8\n",
       "3       Advanced            Computer Science           114\n",
       "4       Advanced  Data Analysis & Statistics           102\n",
       "..           ...                         ...           ...\n",
       "65  Introductory                Philanthropy             6\n",
       "66  Introductory         Philosophy & Ethics            48\n",
       "67  Introductory                     Physics            48\n",
       "68  Introductory                     Science            64\n",
       "69  Introductory             Social Sciences           282\n",
       "\n",
       "[70 rows x 3 columns]"
      ]
     },
     "execution_count": 98,
     "metadata": {},
     "output_type": "execute_result"
    }
   ],
   "source": [
    "query_level_subject_edx = pd.read_sql('''SELECT Level, subject, COUNT(title) AS course_count\n",
    "                                            FROM edx_sql\n",
    "                                            GROUP BY level, subject''', edx_conn)\n",
    "query_level_subject_edx"
   ]
  },
  {
   "cell_type": "code",
   "execution_count": 101,
   "id": "d748e6f8",
   "metadata": {},
   "outputs": [
    {
     "data": {
      "image/png": "[encoded data removed]",
      "text/plain": [
       "<Figure size 864x432 with 1 Axes>"
      ]
     },
     "metadata": {},
     "output_type": "display_data"
    }
   ],
   "source": [
    "plt.figure(figsize=(12, 6))\n",
    "sns.barplot(data=query_level_subject_udemy, x='subject', y='course_count', hue = 'level', color='gold')\n",
    "plt.title('Number of courses per Subject for Edx')\n",
    "plt.xlabel('Subject')\n",
    "plt.ylabel('Number of Courses')\n",
    "plt.show()"
   ]
  },
  {
   "cell_type": "code",
   "execution_count": 102,
   "id": "5e7a0e79",
   "metadata": {},
   "outputs": [],
   "source": [
    "query_level_subject_edx_csv = query_level_subject_edx.to_csv('query_level_subject_edx.csv') "
   ]
  }
 ],
 "metadata": {
  "kernelspec": {
   "display_name": "Python 3 (ipykernel)",
   "language": "python",
   "name": "python3"
  },
  "language_info": {
   "codemirror_mode": {
    "name": "ipython",
    "version": 3
   },
   "file_extension": ".py",
   "mimetype": "text/x-python",
   "name": "python",
   "nbconvert_exporter": "python",
   "pygments_lexer": "ipython3",
   "version": "3.9.7"
  }
 },
 "nbformat": 4,
 "nbformat_minor": 5
}
